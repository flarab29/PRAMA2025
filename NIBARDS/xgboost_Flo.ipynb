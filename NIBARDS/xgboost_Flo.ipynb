{
 "cells": [
  {
   "cell_type": "markdown",
   "id": "07e9f7fe",
   "metadata": {},
   "source": [
    "# XGBoost"
   ]
  },
  {
   "cell_type": "code",
   "execution_count": 1,
   "id": "f620a798",
   "metadata": {},
   "outputs": [],
   "source": [
    "import matplotlib.pyplot as plt"
   ]
  },
  {
   "cell_type": "code",
   "execution_count": 2,
   "id": "d3f17e92",
   "metadata": {},
   "outputs": [],
   "source": [
    "import numpy as np\n",
    "import pandas as pd\n",
    "import os\n",
    "from sklearn.model_selection import train_test_split\n",
    "from sklearn.metrics import roc_auc_score\n",
    "import xgboost as xgb\n",
    "from pathlib import Path\n",
    "\n",
    "# --- Paths ---\n",
    "# Définition du chemin principal vers les données (à adapter selon votre environnement)\n",
    "#data_dir_dam = Path(\"C:/Users/Archi/Documents/Ponts/Cours/S2/Datbi/DATBI2025-CANCER/DataSets\") # replace with your own path\n",
    "data_dir_dam = Path(\"C:/Users/flobm/PRAMA_2025\")\n",
    "# Chemin vers les fichiers de features extraits par MoCo (Self-Supervised Learning)\n",
    "features_dir = data_dir_dam / \"train_input/train_input/moco_features\"\n",
    "# Chemin vers le fichier contenant les labels (ground truth)\n",
    "labels_path = data_dir_dam / \"train_output.csv\"\n",
    "\n",
    "# --- Load labels ---\n",
    "# Chargement du fichier CSV contenant les labels associés aux échantillons\n",
    "labels_df = pd.read_csv(labels_path)\n",
    "\n",
    "# On définit \"Sample ID\" comme index pour faciliter les jointures futures avec les features\n",
    "labels_df.set_index(\"Sample ID\", inplace=True)"
   ]
  },
  {
   "cell_type": "code",
   "execution_count": 6,
   "id": "e1c69ff2",
   "metadata": {},
   "outputs": [
    {
     "name": "stdout",
     "output_type": "stream",
     "text": [
      "344,000 tuiles chargées, X shape = (344000, 2048), y shape = (344000,)\n"
     ]
    }
   ],
   "source": [
    "# import numpy as np\n",
    "# import pandas as pd\n",
    "# import os\n",
    "# from pathlib import Path\n",
    "\n",
    "# # --- Paths ---\n",
    "# data_dir_dam = Path(\"C:/Users/flobm/PRAMA_2025\")          # à adapter\n",
    "# features_dir = data_dir_dam / \"train_input/train_input/moco_features\"\n",
    "# labels_path  = data_dir_dam / \"train_output.csv\"\n",
    "\n",
    "# # --- Load labels ---\n",
    "# labels_df = pd.read_csv(labels_path).set_index(\"Sample ID\")\n",
    "\n",
    "# # --- Build tile-level dataset ---\n",
    "X_tiles = []          # liste de matrices (n_tiles, 2048)\n",
    "y_tiles = []          # liste de vecteurs (n_tiles,)\n",
    "\n",
    "for sample_id, target in labels_df[\"Target\"].items():\n",
    "    path = features_dir / f\"{sample_id}\"\n",
    "    if not path.exists():\n",
    "        print(f\"File not found: {path}\")\n",
    "        continue\n",
    "\n",
    "    mat = np.load(path)              # (n_tiles ≈ 1000, 2051)\n",
    "    features = mat[:, 3:]            # (n_tiles, 2048)\n",
    "\n",
    "    X_tiles.append(features)                             # empile les tuiles\n",
    "    y_tiles.append(np.full(features.shape[0], target))   # même label répété\n",
    "\n",
    "# --- Concatenate everything ---\n",
    "X = np.vstack(X_tiles)      # shape: (total_tiles, 2048)\n",
    "y = np.concatenate(y_tiles) # shape: (total_tiles,)\n",
    "\n",
    "print(f\"{X.shape[0]:,} tuiles chargées, X shape = {X.shape}, y shape = {y.shape}\")\n"
   ]
  },
  {
   "cell_type": "code",
   "execution_count": 7,
   "id": "cb52939e",
   "metadata": {},
   "outputs": [
    {
     "data": {
      "text/plain": [
       "array([[3.22281092e-04, 0.00000000e+00, 0.00000000e+00, ...,\n",
       "        0.00000000e+00, 1.16794497e-01, 0.00000000e+00],\n",
       "       [2.01828294e-02, 0.00000000e+00, 0.00000000e+00, ...,\n",
       "        9.16997194e-02, 1.06236085e-01, 9.02110187e-05],\n",
       "       [3.18879411e-02, 0.00000000e+00, 0.00000000e+00, ...,\n",
       "        0.00000000e+00, 8.03183734e-01, 0.00000000e+00],\n",
       "       ...,\n",
       "       [1.05979040e-01, 5.04391547e-03, 0.00000000e+00, ...,\n",
       "        0.00000000e+00, 0.00000000e+00, 2.62115747e-02],\n",
       "       [3.85654159e-02, 0.00000000e+00, 2.22455338e-01, ...,\n",
       "        0.00000000e+00, 1.85494106e-02, 2.56239101e-02],\n",
       "       [1.82633996e-01, 1.32968258e-02, 5.57811320e-01, ...,\n",
       "        0.00000000e+00, 0.00000000e+00, 7.16278926e-02]],\n",
       "      shape=(344000, 2048), dtype=float32)"
      ]
     },
     "execution_count": 7,
     "metadata": {},
     "output_type": "execute_result"
    }
   ],
   "source": [
    "X"
   ]
  },
  {
   "cell_type": "code",
   "execution_count": 8,
   "id": "24000c76",
   "metadata": {},
   "outputs": [
    {
     "data": {
      "text/plain": [
       "array([0, 0, 0, ..., 0, 0, 0], shape=(344000,))"
      ]
     },
     "execution_count": 8,
     "metadata": {},
     "output_type": "execute_result"
    }
   ],
   "source": [
    "y"
   ]
  },
  {
   "cell_type": "code",
   "execution_count": 9,
   "id": "a8cc7e12",
   "metadata": {},
   "outputs": [
    {
     "name": "stderr",
     "output_type": "stream",
     "text": [
      "c:\\Users\\flobm\\miniconda3\\Lib\\site-packages\\xgboost\\training.py:183: UserWarning: [19:35:08] WARNING: C:\\actions-runner\\_work\\xgboost\\xgboost\\src\\learner.cc:738: \n",
      "Parameters: { \"use_label_encoder\" } are not used.\n",
      "\n",
      "  bst.update(dtrain, iteration=i, fobj=obj)\n"
     ]
    },
    {
     "name": "stdout",
     "output_type": "stream",
     "text": [
      "AUC ROC : 0.8754\n"
     ]
    }
   ],
   "source": [
    "X_train, X_val, y_train, y_val = train_test_split(X, y, test_size=0.2, stratify=y, random_state=42)\n",
    "\n",
    "model = xgb.XGBClassifier(use_label_encoder=False, eval_metric='logloss')\n",
    "model.fit(X_train, y_train)\n",
    "\n",
    "y_pred_proba = model.predict_proba(X_val)[:, 1]\n",
    "auc = roc_auc_score(y_val, y_pred_proba)\n",
    "\n",
    "print(f\"AUC ROC : {auc:.4f}\")"
   ]
  },
  {
   "cell_type": "code",
   "execution_count": null,
   "id": "255600f2",
   "metadata": {},
   "outputs": [],
   "source": [
    "from sklearn.ensemble import RandomForestClassifier\n",
    "\n",
    "model_randFor = RandomForestClassifier(n_estimators=10, random_state=42, criterion= 'log_loss')\n",
    "\n",
    "model_randFor.fit(X_train, y_train)\n",
    "\n",
    "y_pred_proba_rf = model_randFor.predict_proba(X_val)[:, 1]\n",
    "auc_rf = roc_auc_score(y_val, y_pred_proba_rf)\n",
    "\n",
    "print(f\"AUC ROC : {auc_rf:.4f}\")\n",
    "\n",
    "from sklearn.metrics import roc_curve\n",
    "from sklearn.metrics import roc_auc_score\n",
    "\n",
    "# Calcul des taux de faux positifs (fpr) et vrais positifs (tpr)\n",
    "# à partir des probabilités prédites\n",
    "fpr, tpr, _ = roc_curve(y_val, y_pred_proba_rf)\n",
    "\n",
    "# Tracé de la courbe ROC\n",
    "plt.plot(fpr, tpr, label=f\"AUC = {auc_rf:.2f}\")\n",
    "plt.plot([0, 1], [0, 1], linestyle='--')\n",
    "\n",
    "# Étiquettes des axes et titre du graphique\n",
    "plt.xlabel(\"False Positive Rate\")\n",
    "plt.ylabel(\"True Positive Rate\")\n",
    "plt.title(\"ROC Curve\")\n",
    "\n",
    "# Affichage de la légende (incluant la valeur AUC)\n",
    "plt.legend()\n",
    "plt.show()"
   ]
  }
 ],
 "metadata": {
  "kernelspec": {
   "display_name": "base",
   "language": "python",
   "name": "python3"
  },
  "language_info": {
   "codemirror_mode": {
    "name": "ipython",
    "version": 3
   },
   "file_extension": ".py",
   "mimetype": "text/x-python",
   "name": "python",
   "nbconvert_exporter": "python",
   "pygments_lexer": "ipython3",
   "version": "3.13.2"
  }
 },
 "nbformat": 4,
 "nbformat_minor": 5
}
