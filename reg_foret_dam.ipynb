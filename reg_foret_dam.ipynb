{
 "cells": [
  {
   "cell_type": "markdown",
   "metadata": {},
   "source": [
    "# Imports"
   ]
  },
  {
   "cell_type": "markdown",
   "metadata": {},
   "source": [
    "## Libs"
   ]
  },
  {
   "cell_type": "code",
   "execution_count": 13,
   "metadata": {},
   "outputs": [],
   "source": [
    "# Classic imports\n",
    "import pandas as pd\n",
    "import numpy as np\n",
    "\n",
    "# Sklearn imports\n",
    "from sklearn.model_selection import train_test_split\n",
    "from sklearn.metrics import mean_squared_error\n",
    "from sklearn.model_selection import cross_val_score\n",
    "# - Models -\n",
    "from sklearn.ensemble import RandomForestRegressor\n",
    "from sklearn.preprocessing import MinMaxScaler\n",
    "\n",
    "# Other imports\n",
    "import tqdm"
   ]
  },
  {
   "cell_type": "markdown",
   "metadata": {},
   "source": [
    "## Datasets"
   ]
  },
  {
   "cell_type": "code",
   "execution_count": null,
   "metadata": {},
   "outputs": [
    {
     "name": "stdout",
     "output_type": "stream",
     "text": [
      "Train shape:  (17147, 32)\n",
      "Prediction file shape:  (4287, 29)\n"
     ]
    }
   ],
   "source": [
    "# Load the datasets\n",
    "train_name = \"train_with_clusters_with_sin_ratios_with_m2_price_scaled\" # nom du fichier csv à utiliser pour train\n",
    "pred_name = \"test_with_clusters_with_sin_ratios_with_m2_price_scaled\" # nom du fichier csv pour prédire\n",
    "\n",
    "train_df = pd.read_csv('CSV DATA/'+ train_name +'.csv')  # fichier csv à utiliser pour train\n",
    "pred_df = pd.read_csv('CSV DATA/'+ pred_name +'.csv')  # fichier csv pour prédire\n",
    "\n",
    "target_columns = ['prix', 'prix_m2_interieur' , 'prix_m2_total'] # colonnes à prédire\n",
    "\n",
    "#little printy print to see the data\n",
    "print(\"Train shape: \", train_df.shape)\n",
    "print(\"Prediction file shape: \", pred_df.shape)"
   ]
  },
  {
   "cell_type": "code",
   "execution_count": 6,
   "metadata": {},
   "outputs": [],
   "source": [
    "X_train, X_test, y_train, y_test = train_test_split(train_df.drop(columns=target_columns), train_df[target_columns], test_size=0.2, random_state=42)"
   ]
  },
  {
   "cell_type": "code",
   "execution_count": 15,
   "metadata": {},
   "outputs": [
    {
     "data": {
      "text/plain": [
       "((13717, 29), (3430, 29), (13717, 3), (3430, 3))"
      ]
     },
     "execution_count": 15,
     "metadata": {},
     "output_type": "execute_result"
    }
   ],
   "source": [
    "X_train.shape, X_test.shape, y_train.shape, y_test.shape"
   ]
  },
  {
   "cell_type": "markdown",
   "metadata": {},
   "source": [
    "# Cross Validation"
   ]
  },
  {
   "cell_type": "code",
   "execution_count": 16,
   "metadata": {},
   "outputs": [],
   "source": [
    "def cross_val_func(model, X, y, cv=5):\n",
    "    # Perform cross-validation\n",
    "    scores = cross_val_score(model, X, y, cv=cv)  # 5-fold cross-validation\n",
    "\n",
    "    # Print the cross-validation scores\n",
    "    print(f\"Cross-validation scores: {scores}\")\n",
    "    print(f\"Mean cross-validation score: {scores.mean()}\")\n",
    "    print(f\"Standard deviation of scores: {scores.std()}\")\n",
    "\n",
    "    return scores"
   ]
  },
  {
   "cell_type": "code",
   "execution_count": 17,
   "metadata": {},
   "outputs": [],
   "source": [
    "def RMSE_calc(x1, x2):\n",
    "    RMSE = np.sqrt(mean_squared_error(x1, x2))\n",
    "    print(\"RMSE: \", RMSE)\n",
    "    return RMSE"
   ]
  },
  {
   "cell_type": "markdown",
   "metadata": {},
   "source": [
    "# Model - regression pénalisée"
   ]
  },
  {
   "cell_type": "markdown",
   "metadata": {},
   "source": [
    "## Useful functions"
   ]
  },
  {
   "cell_type": "code",
   "execution_count": 18,
   "metadata": {},
   "outputs": [],
   "source": [
    "from sklearn.linear_model import Lasso"
   ]
  },
  {
   "cell_type": "code",
   "execution_count": 19,
   "metadata": {},
   "outputs": [],
   "source": [
    "def lasso_reg(X_train, y_train, X_test, lasso = None):\n",
    "    if lasso :\n",
    "        lasso = lasso\n",
    "    else :\n",
    "        # Initialisation du modèle Lasso\n",
    "        lasso = Lasso(alpha=0.1)\n",
    "\n",
    "    # Entraînement du modèle\n",
    "    lasso.fit(X_train, y_train)\n",
    "\n",
    "    # Prédiction sur l'ensemble de test\n",
    "    y_pred = lasso.predict(X_test)\n",
    "\n",
    "    return y_pred, lasso"
   ]
  },
  {
   "cell_type": "code",
   "execution_count": null,
   "metadata": {},
   "outputs": [
    {
     "data": {
      "text/html": [
       "<style>#sk-container-id-1 {color: black;background-color: white;}#sk-container-id-1 pre{padding: 0;}#sk-container-id-1 div.sk-toggleable {background-color: white;}#sk-container-id-1 label.sk-toggleable__label {cursor: pointer;display: block;width: 100%;margin-bottom: 0;padding: 0.3em;box-sizing: border-box;text-align: center;}#sk-container-id-1 label.sk-toggleable__label-arrow:before {content: \"▸\";float: left;margin-right: 0.25em;color: #696969;}#sk-container-id-1 label.sk-toggleable__label-arrow:hover:before {color: black;}#sk-container-id-1 div.sk-estimator:hover label.sk-toggleable__label-arrow:before {color: black;}#sk-container-id-1 div.sk-toggleable__content {max-height: 0;max-width: 0;overflow: hidden;text-align: left;background-color: #f0f8ff;}#sk-container-id-1 div.sk-toggleable__content pre {margin: 0.2em;color: black;border-radius: 0.25em;background-color: #f0f8ff;}#sk-container-id-1 input.sk-toggleable__control:checked~div.sk-toggleable__content {max-height: 200px;max-width: 100%;overflow: auto;}#sk-container-id-1 input.sk-toggleable__control:checked~label.sk-toggleable__label-arrow:before {content: \"▾\";}#sk-container-id-1 div.sk-estimator input.sk-toggleable__control:checked~label.sk-toggleable__label {background-color: #d4ebff;}#sk-container-id-1 div.sk-label input.sk-toggleable__control:checked~label.sk-toggleable__label {background-color: #d4ebff;}#sk-container-id-1 input.sk-hidden--visually {border: 0;clip: rect(1px 1px 1px 1px);clip: rect(1px, 1px, 1px, 1px);height: 1px;margin: -1px;overflow: hidden;padding: 0;position: absolute;width: 1px;}#sk-container-id-1 div.sk-estimator {font-family: monospace;background-color: #f0f8ff;border: 1px dotted black;border-radius: 0.25em;box-sizing: border-box;margin-bottom: 0.5em;}#sk-container-id-1 div.sk-estimator:hover {background-color: #d4ebff;}#sk-container-id-1 div.sk-parallel-item::after {content: \"\";width: 100%;border-bottom: 1px solid gray;flex-grow: 1;}#sk-container-id-1 div.sk-label:hover label.sk-toggleable__label {background-color: #d4ebff;}#sk-container-id-1 div.sk-serial::before {content: \"\";position: absolute;border-left: 1px solid gray;box-sizing: border-box;top: 0;bottom: 0;left: 50%;z-index: 0;}#sk-container-id-1 div.sk-serial {display: flex;flex-direction: column;align-items: center;background-color: white;padding-right: 0.2em;padding-left: 0.2em;position: relative;}#sk-container-id-1 div.sk-item {position: relative;z-index: 1;}#sk-container-id-1 div.sk-parallel {display: flex;align-items: stretch;justify-content: center;background-color: white;position: relative;}#sk-container-id-1 div.sk-item::before, #sk-container-id-1 div.sk-parallel-item::before {content: \"\";position: absolute;border-left: 1px solid gray;box-sizing: border-box;top: 0;bottom: 0;left: 50%;z-index: -1;}#sk-container-id-1 div.sk-parallel-item {display: flex;flex-direction: column;z-index: 1;position: relative;background-color: white;}#sk-container-id-1 div.sk-parallel-item:first-child::after {align-self: flex-end;width: 50%;}#sk-container-id-1 div.sk-parallel-item:last-child::after {align-self: flex-start;width: 50%;}#sk-container-id-1 div.sk-parallel-item:only-child::after {width: 0;}#sk-container-id-1 div.sk-dashed-wrapped {border: 1px dashed gray;margin: 0 0.4em 0.5em 0.4em;box-sizing: border-box;padding-bottom: 0.4em;background-color: white;}#sk-container-id-1 div.sk-label label {font-family: monospace;font-weight: bold;display: inline-block;line-height: 1.2em;}#sk-container-id-1 div.sk-label-container {text-align: center;}#sk-container-id-1 div.sk-container {/* jupyter's `normalize.less` sets `[hidden] { display: none; }` but bootstrap.min.css set `[hidden] { display: none !important; }` so we also need the `!important` here to be able to override the default hidden behavior on the sphinx rendered scikit-learn.org. See: https://github.com/scikit-learn/scikit-learn/issues/21755 */display: inline-block !important;position: relative;}#sk-container-id-1 div.sk-text-repr-fallback {display: none;}</style><div id=\"sk-container-id-1\" class=\"sk-top-container\"><div class=\"sk-text-repr-fallback\"><pre>StandardScaler()</pre><b>In a Jupyter environment, please rerun this cell to show the HTML representation or trust the notebook. <br />On GitHub, the HTML representation is unable to render, please try loading this page with nbviewer.org.</b></div><div class=\"sk-container\" hidden><div class=\"sk-item\"><div class=\"sk-estimator sk-toggleable\"><input class=\"sk-toggleable__control sk-hidden--visually\" id=\"sk-estimator-id-1\" type=\"checkbox\" checked><label for=\"sk-estimator-id-1\" class=\"sk-toggleable__label sk-toggleable__label-arrow\">StandardScaler</label><div class=\"sk-toggleable__content\"><pre>StandardScaler()</pre></div></div></div></div></div>"
      ],
      "text/plain": [
       "StandardScaler()"
      ]
     },
     "execution_count": 26,
     "metadata": {},
     "output_type": "execute_result"
    }
   ],
   "source": [
    "# on importe les fichiers avant scaling pour entrainer un standardscaler dessus,\n",
    "# et l'utiliser pour de-scaler les prédictions et voir les scores à l'échelle\n",
    "\n",
    "from sklearn.preprocessing import StandardScaler\n",
    "unscaled_data = pd.read_csv('CSV data/train_with_clusters_with_sin_ratios_with_m2_price.csv')[target_columns]\n",
    "scaler = StandardScaler()\n",
    "scaler.fit(unscaled_data)\n"
   ]
  },
  {
   "cell_type": "code",
   "execution_count": 29,
   "metadata": {},
   "outputs": [],
   "source": [
    "y_test_descaled = scaler.inverse_transform(y_test)"
   ]
  },
  {
   "cell_type": "markdown",
   "metadata": {},
   "source": [
    "## Comparaison RMSE du lasso"
   ]
  },
  {
   "cell_type": "code",
   "execution_count": 28,
   "metadata": {},
   "outputs": [
    {
     "name": "stdout",
     "output_type": "stream",
     "text": [
      "Cross-validation scores: [ 0.00238959 -0.00093917  0.00047778  0.00142405  0.00180318]\n",
      "Mean cross-validation score: 0.0010310869086803528\n",
      "Standard deviation of scores: 0.001164829080732257\n",
      "RMSE:  0.11499759963766087\n"
     ]
    }
   ],
   "source": [
    "lasso = Lasso(alpha=0.1)\n",
    "y_pred_lasso = lasso_reg(X_train, y_train, X_test, lasso)[0]\n",
    "scores_crossval_lasso = cross_val_func(lasso, X_train, y_train, cv = 5)\n",
    "y_pred_lasso_descaled = scaler.inverse_transform(y_pred_lasso)\n",
    "RMSE_lasso = RMSE_calc(y_test, y_pred_lasso)\n"
   ]
  },
  {
   "cell_type": "code",
   "execution_count": 30,
   "metadata": {},
   "outputs": [
    {
     "name": "stdout",
     "output_type": "stream",
     "text": [
      "RMSE:  11402.428961401441\n"
     ]
    }
   ],
   "source": [
    "RMSE_lasso_whole = RMSE_calc(y_test_descaled, y_pred_lasso_descaled)"
   ]
  },
  {
   "cell_type": "code",
   "execution_count": 36,
   "metadata": {},
   "outputs": [],
   "source": [
    "pred_features = ['id', 'nb_chambres', 'nb_sdb', 'm2_interieur', 'm2_jardin',\n",
    "       'm2_etage', 'm2_soussol', 'nb_etages', 'vue_mer', 'vue_note',\n",
    "       'etat_note', 'design_note', 'annee_construction', 'annee_renovation',\n",
    "       'm2_interieur_15voisins', 'm2_jardin_15voisins', 'zipcode',\n",
    "       'cluster_tres_bas', 'cluster_bas', 'cluster_moyen', 'cluster_eleve',\n",
    "       'cluster_tres_eleve', 'sin_month', 'sin_dayofyear', 'jardin', 'etage',\n",
    "       'soussol', 'm2_outside', 'm2_total']"
   ]
  },
  {
   "cell_type": "code",
   "execution_count": 60,
   "metadata": {},
   "outputs": [
    {
     "data": {
      "text/plain": [
       "((17147, 29), (17147, 3))"
      ]
     },
     "execution_count": 60,
     "metadata": {},
     "output_type": "execute_result"
    }
   ],
   "source": [
    "final_train = train_df[pred_features]\n",
    "final_y = train_df[target_columns]\n",
    "final_train.shape, final_y.shape"
   ]
  },
  {
   "cell_type": "code",
   "execution_count": 61,
   "metadata": {},
   "outputs": [
    {
     "data": {
      "application/vnd.microsoft.datawrangler.viewer.v0+json": {
       "columns": [
        {
         "name": "index",
         "rawType": "int64",
         "type": "integer"
        },
        {
         "name": "prix",
         "rawType": "float64",
         "type": "float"
        },
        {
         "name": "prix_m2_interieur",
         "rawType": "float64",
         "type": "float"
        },
        {
         "name": "prix_m2_total",
         "rawType": "float64",
         "type": "float"
        }
       ],
       "conversionMethod": "pd.DataFrame",
       "ref": "376e0d30-0be8-4d1d-b17a-ba3f4d9e3265",
       "rows": [
        [
         "0",
         "0.0581037567084078",
         "0.293826344991952",
         "0.2177923699930539"
        ],
        [
         "1",
         "0.0679785330948121",
         "0.4849479584187472",
         "0.0302033504253055"
        ],
        [
         "2",
         "0.0178819320214669",
         "0.0535736263462344",
         "0.0217586048379953"
        ],
        [
         "3",
         "0.041475205724508",
         "0.0977757467562973",
         "0.0888719334810636"
        ],
        [
         "4",
         "0.0565295169946332",
         "0.2435710419361645",
         "0.0806389547764483"
        ],
        [
         "5",
         "0.053381037567084",
         "0.0451955772738532",
         "0.038917782906036"
        ],
        [
         "6",
         "0.1252236135957066",
         "0.2602431341508669",
         "0.2097218247017171"
        ],
        [
         "7",
         "0.0930232558139534",
         "0.2174117396247475",
         "0.0558393826049656"
        ],
        [
         "8",
         "0.1026833631484794",
         "0.1363589208523565",
         "0.010595862555812"
        ],
        [
         "9",
         "0.0722719141323792",
         "0.1051670895436045",
         "0.1212392047285423"
        ],
        [
         "10",
         "0.0256171735241502",
         "0.1131700643222378",
         "0.1099031072854652"
        ],
        [
         "11",
         "0.087298747763864",
         "0.2371747354449495",
         "0.0993932720195697"
        ],
        [
         "12",
         "0.0744186046511627",
         "0.2967479624196451",
         "0.3560218587601266"
        ],
        [
         "13",
         "0.1001788908765653",
         "0.2325617666217121",
         "0.2529176621570818"
        ],
        [
         "14",
         "0.1101967799642218",
         "0.168481878414997",
         "0.0172351452136586"
        ],
        [
         "15",
         "0.0346332737030411",
         "0.1971743388049035",
         "0.0812150459607486"
        ],
        [
         "16",
         "0.0722719141323792",
         "0.2967116032370673",
         "0.181847684999743"
        ],
        [
         "17",
         "0.0339177101967799",
         "0.069136800385904",
         "0.0894201811868053"
        ],
        [
         "18",
         "0.0315849731663685",
         "0.1183730723366995",
         "0.0976359961672119"
        ],
        [
         "19",
         "0.0785688729874776",
         "0.4458188166387323",
         "0.2736918739685552"
        ],
        [
         "20",
         "0.0787119856887298",
         "0.5903072729018102",
         "0.3630839637435983"
        ],
        [
         "21",
         "0.4107334525939177",
         "0.8295528268280311",
         "0.7298432599440499"
        ],
        [
         "22",
         "0.0400715563506261",
         "0.072468554757383",
         "0.0720511401525736"
        ],
        [
         "23",
         "0.0494025044722719",
         "0.3238928797511903",
         "0.1215001338037126"
        ],
        [
         "24",
         "0.0672629695885509",
         "0.2039799941707298",
         "0.0860929531598359"
        ],
        [
         "25",
         "0.0966010733452593",
         "0.2451525025218361",
         "0.2107953102691856"
        ],
        [
         "26",
         "0.0164579606440071",
         "0.0536762321593691",
         "0.0457519835220304"
        ],
        [
         "27",
         "0.2196779964221824",
         "0.4063112926739138",
         "0.1331488148122939"
        ],
        [
         "28",
         "0.0779964221824686",
         "0.2856375862861645",
         "0.1368636620447867"
        ],
        [
         "29",
         "0.0919570661896243",
         "0.231706189577395",
         "0.2445696422032742"
        ],
        [
         "30",
         "0.0524508050089445",
         "0.4906438872770111",
         "0.2194620416586354"
        ],
        [
         "31",
         "0.4679785330948121",
         "0.7546835077711851",
         "0.4025761486317135"
        ],
        [
         "32",
         "0.0601073345259391",
         "0.1702281323914131",
         "0.0693450492846607"
        ],
        [
         "33",
         "0.035778175313059",
         "0.20290880781344",
         "0.0660584339650415"
        ],
        [
         "34",
         "0.0651162790697674",
         "0.1327074503568225",
         "0.1049933998843936"
        ],
        [
         "35",
         "0.024901610017889",
         "0.1501140492114606",
         "0.0698709851902214"
        ],
        [
         "36",
         "0.033345259391771",
         "0.2773634008874699",
         "0.1044309257990001"
        ],
        [
         "37",
         "0.0233202146690518",
         "0.132020540282287",
         "0.0684343242076255"
        ],
        [
         "38",
         "0.0486583184257602",
         "0.1187668972104848",
         "0.0907880046398257"
        ],
        [
         "39",
         "0.0608228980322003",
         "0.615834235079897",
         "0.2284923622911954"
        ],
        [
         "40",
         "0.0958855098389982",
         "0.3337104851448699",
         "0.1459650363543458"
        ],
        [
         "41",
         "0.0286225402504472",
         "0.0791548162049039",
         "0.0684813223840145"
        ],
        [
         "42",
         "0.0307692307692307",
         "0.1484325544271048",
         "0.0801488264268873"
        ],
        [
         "43",
         "0.1435420393559928",
         "0.3559051348862682",
         "0.0581993750679835"
        ],
        [
         "44",
         "0.0293381037567084",
         "0.1211726314202324",
         "0.0596517290706366"
        ],
        [
         "45",
         "0.1853309481216458",
         "0.4249300334677265",
         "0.1965707456907451"
        ],
        [
         "46",
         "0.0164579606440071",
         "0.1195081856464071",
         "0.0445184014216789"
        ],
        [
         "47",
         "0.0538898032200357",
         "0.3572356585423218",
         "0.1925093263767963"
        ],
        [
         "48",
         "0.04608228980322",
         "0.1883734672159618",
         "0.1177931537856737"
        ],
        [
         "49",
         "0.0241574239713774",
         "0.1772449867961125",
         "0.0206410527878726"
        ]
       ],
       "shape": {
        "columns": 3,
        "rows": 17147
       }
      },
      "text/html": [
       "<div>\n",
       "<style scoped>\n",
       "    .dataframe tbody tr th:only-of-type {\n",
       "        vertical-align: middle;\n",
       "    }\n",
       "\n",
       "    .dataframe tbody tr th {\n",
       "        vertical-align: top;\n",
       "    }\n",
       "\n",
       "    .dataframe thead th {\n",
       "        text-align: right;\n",
       "    }\n",
       "</style>\n",
       "<table border=\"1\" class=\"dataframe\">\n",
       "  <thead>\n",
       "    <tr style=\"text-align: right;\">\n",
       "      <th></th>\n",
       "      <th>prix</th>\n",
       "      <th>prix_m2_interieur</th>\n",
       "      <th>prix_m2_total</th>\n",
       "    </tr>\n",
       "  </thead>\n",
       "  <tbody>\n",
       "    <tr>\n",
       "      <th>0</th>\n",
       "      <td>0.058104</td>\n",
       "      <td>0.293826</td>\n",
       "      <td>0.217792</td>\n",
       "    </tr>\n",
       "    <tr>\n",
       "      <th>1</th>\n",
       "      <td>0.067979</td>\n",
       "      <td>0.484948</td>\n",
       "      <td>0.030203</td>\n",
       "    </tr>\n",
       "    <tr>\n",
       "      <th>2</th>\n",
       "      <td>0.017882</td>\n",
       "      <td>0.053574</td>\n",
       "      <td>0.021759</td>\n",
       "    </tr>\n",
       "    <tr>\n",
       "      <th>3</th>\n",
       "      <td>0.041475</td>\n",
       "      <td>0.097776</td>\n",
       "      <td>0.088872</td>\n",
       "    </tr>\n",
       "    <tr>\n",
       "      <th>4</th>\n",
       "      <td>0.056530</td>\n",
       "      <td>0.243571</td>\n",
       "      <td>0.080639</td>\n",
       "    </tr>\n",
       "    <tr>\n",
       "      <th>...</th>\n",
       "      <td>...</td>\n",
       "      <td>...</td>\n",
       "      <td>...</td>\n",
       "    </tr>\n",
       "    <tr>\n",
       "      <th>17142</th>\n",
       "      <td>0.097317</td>\n",
       "      <td>0.245033</td>\n",
       "      <td>0.273391</td>\n",
       "    </tr>\n",
       "    <tr>\n",
       "      <th>17143</th>\n",
       "      <td>0.028336</td>\n",
       "      <td>0.125889</td>\n",
       "      <td>0.055955</td>\n",
       "    </tr>\n",
       "    <tr>\n",
       "      <th>17144</th>\n",
       "      <td>0.054097</td>\n",
       "      <td>0.274472</td>\n",
       "      <td>0.127564</td>\n",
       "    </tr>\n",
       "    <tr>\n",
       "      <th>17145</th>\n",
       "      <td>0.052737</td>\n",
       "      <td>0.182217</td>\n",
       "      <td>0.046045</td>\n",
       "    </tr>\n",
       "    <tr>\n",
       "      <th>17146</th>\n",
       "      <td>0.013596</td>\n",
       "      <td>0.157790</td>\n",
       "      <td>0.065353</td>\n",
       "    </tr>\n",
       "  </tbody>\n",
       "</table>\n",
       "<p>17147 rows × 3 columns</p>\n",
       "</div>"
      ],
      "text/plain": [
       "           prix  prix_m2_interieur  prix_m2_total\n",
       "0      0.058104           0.293826       0.217792\n",
       "1      0.067979           0.484948       0.030203\n",
       "2      0.017882           0.053574       0.021759\n",
       "3      0.041475           0.097776       0.088872\n",
       "4      0.056530           0.243571       0.080639\n",
       "...         ...                ...            ...\n",
       "17142  0.097317           0.245033       0.273391\n",
       "17143  0.028336           0.125889       0.055955\n",
       "17144  0.054097           0.274472       0.127564\n",
       "17145  0.052737           0.182217       0.046045\n",
       "17146  0.013596           0.157790       0.065353\n",
       "\n",
       "[17147 rows x 3 columns]"
      ]
     },
     "execution_count": 61,
     "metadata": {},
     "output_type": "execute_result"
    }
   ],
   "source": [
    "final_y"
   ]
  },
  {
   "cell_type": "code",
   "execution_count": 42,
   "metadata": {},
   "outputs": [
    {
     "data": {
      "text/plain": [
       "(4287, 29)"
      ]
     },
     "execution_count": 42,
     "metadata": {},
     "output_type": "execute_result"
    }
   ],
   "source": [
    "pred_df.shape"
   ]
  },
  {
   "cell_type": "code",
   "execution_count": 54,
   "metadata": {},
   "outputs": [],
   "source": [
    "lasso.fit(final_train, final_test)\n",
    "lasso_final_pred = scaler.inverse_transform(lasso.predict(pred_df))\n",
    "scaled_df_test = pd.DataFrame(lasso_final_pred, columns=target_columns, index=pred_df.index)['prix']"
   ]
  },
  {
   "cell_type": "code",
   "execution_count": 55,
   "metadata": {},
   "outputs": [
    {
     "data": {
      "text/plain": [
       "0       568645.364019\n",
       "1       568645.051754\n",
       "2       568644.883593\n",
       "3       568644.451186\n",
       "4       568644.415095\n",
       "            ...      \n",
       "4282    567464.665412\n",
       "4283    567464.665365\n",
       "4284    567464.473242\n",
       "4285    567464.052982\n",
       "4286    567464.052870\n",
       "Name: prix, Length: 4287, dtype: float64"
      ]
     },
     "execution_count": 55,
     "metadata": {},
     "output_type": "execute_result"
    }
   ],
   "source": [
    "scaled_df_test"
   ]
  },
  {
   "cell_type": "code",
   "execution_count": 57,
   "metadata": {},
   "outputs": [],
   "source": [
    "scaled_df_test.to_csv('predictions/lasso_pred_flo.csv')"
   ]
  },
  {
   "cell_type": "markdown",
   "metadata": {},
   "source": [
    "# Model - Random Forest"
   ]
  },
  {
   "cell_type": "markdown",
   "metadata": {},
   "source": [
    "## Useful functions"
   ]
  },
  {
   "cell_type": "markdown",
   "metadata": {},
   "source": [
    "### time for filename of prediction"
   ]
  },
  {
   "cell_type": "code",
   "execution_count": 9,
   "metadata": {},
   "outputs": [],
   "source": [
    "from datetime import datetime\n",
    "\n",
    "def current_time_filename():\n",
    "    # Obtenir la date et l'heure actuelles au format mois_jour_heure_min pour au cas où on veut spammer le kaggle\n",
    "    current_time = datetime.now().strftime(\"%m_%d_%H_%M\")\n",
    "\n",
    "    # Et paf le nom de fichier avec la date et l'heure actuelles\n",
    "    file_name = f\"predictions_{current_time}\"\n",
    "\n",
    "    return file_name"
   ]
  },
  {
   "cell_type": "markdown",
   "metadata": {},
   "source": [
    "### gridsearch of randomforest"
   ]
  },
  {
   "cell_type": "code",
   "execution_count": 10,
   "metadata": {},
   "outputs": [],
   "source": [
    "rf = RandomForestRegressor(random_state=42)"
   ]
  },
  {
   "cell_type": "code",
   "execution_count": 11,
   "metadata": {},
   "outputs": [],
   "source": [
    "from sklearn.model_selection import GridSearchCV\n",
    "\n",
    "param_grid = {\n",
    "    'n_estimators': [50, 100, 200],  # Nombre d'arbres dans la forêt\n",
    "    'max_depth': [10, 20, 30],#, None],  # Profondeur maximale des arbres\n",
    "    'min_samples_split': [2, 5, 10],  # Nombre minimal d'échantillons pour une division interne\n",
    "    'min_samples_leaf': [1, 2, 4],    # Nombre minimal d'échantillons par feuille\n",
    "    'bootstrap': [True, False]        # Utiliser bootstrap ou non, via ce qu'à dit le prof\n",
    "}"
   ]
  },
  {
   "cell_type": "code",
   "execution_count": 12,
   "metadata": {},
   "outputs": [],
   "source": [
    "# train with price m2\n",
    "grid_search = GridSearchCV(estimator=rf, param_grid=param_grid, \n",
    "                           cv=5, n_jobs=-1, verbose=2, scoring='neg_mean_absolute_error')\n",
    "\n",
    "def find_rf_best_estimator(train_df, target_columns):\n",
    "    X_train = train_df.drop(columns=target_columns)\n",
    "    y_train = train_df[['prix_m2_interieur', 'prix_m2_total']]\n",
    "\n",
    "    print(\"X_train shape: \", X_train.shape)\n",
    "    print(\"y_train shape: \", y_train.shape)\n",
    "\n",
    "    grid_search.fit(X_train, y_train)\n",
    "\n",
    "    print(f\"Meilleurs paramètres : {grid_search.best_params_}\")\n",
    "\n",
    "    return grid_search.best_estimator_\n"
   ]
  },
  {
   "cell_type": "markdown",
   "metadata": {},
   "source": [
    "### Prediction functions"
   ]
  },
  {
   "cell_type": "code",
   "execution_count": 13,
   "metadata": {},
   "outputs": [],
   "source": [
    "def predict_for_m2(train_df, test_df):\n",
    "    X_train = train_df.drop(columns=['id', 'prix', 'prix_m2_interieur', 'prix_m2_total'])\n",
    "    y_train = train_df['prix_m2_interieur']\n",
    "\n",
    "    model = RandomForestRegressor(bootstrap = True, max_depth = 20, min_samples_leaf = 2, min_samples_split = 2, n_estimators = 200, verbose=2, n_jobs=-1)\n",
    "\n",
    "    model.fit(X_train, y_train)\n",
    "\n",
    "    X_test = test_df.drop(columns=['id'])\n",
    "\n",
    "    y_pred_m2 = model.predict(X_test) # la ca predit pour un prix au m2 !\n",
    "    print(len(y_pred_m2)) # ca c'est pour du debug\n",
    "\n",
    "    date_filename = current_time_filename()\n",
    "    print(date_filename)\n",
    "\n",
    "    filename = f\"{date_filename}-cluster-prix-m2-1.csv\"\n",
    "    # Sauvegarder les résultats dans un fichier CSV avec ce nouveau nom\n",
    "    test_df['prix_m2'] = y_pred_m2\n",
    "    test_df['prix'] = test_df['prix_m2'] * test_df['m2_interieur']\n",
    "    test_df[['id', 'prix']].to_csv(filename, index=False)\n",
    "\n",
    "    print(f\"Fichier sauvegardé sous : {filename}\")\n",
    "\n",
    "def predict_for_total_m2(train_df, test_df, estimator = False, is_scaled = False, m2_price_col = None, id_col = None):\n",
    "    X_train = train_df.drop(columns=['id', 'prix', 'prix_m2_interieur', 'prix_m2_total'])\n",
    "    y_train = train_df[['prix_m2_interieur', 'prix_m2_total']]\n",
    "    \n",
    "    if not estimator :\n",
    "        model = RandomForestRegressor(bootstrap = True, max_depth = 20, min_samples_leaf = 2, min_samples_split = 2, n_estimators = 200, verbose=1, n_jobs=-1)\n",
    "    else :\n",
    "        model = estimator\n",
    "\n",
    "    model.fit(X_train, y_train)\n",
    "\n",
    "    X_test = test_df.drop(columns=['id'])\n",
    "\n",
    "    y_pred_m2 = model.predict(X_test) # la ca predit pour un prix au m2 !\n",
    "    print(len(y_pred_m2)) # ca c'est pour du debug\n",
    "\n",
    "    #print(y_pred_m2[0]) # on voit que le premier de chaque duo est le prix au m2 interieur, l'autre au total\n",
    "\n",
    "    y_pred_m2_array = seperate_total_and_inside(y_pred_m2)\n",
    "\n",
    "    date_filename = current_time_filename()\n",
    "    print(date_filename)\n",
    "\n",
    "    # Sauvegarder les résultats dans un fichier CSV avec ce nouveau nom\n",
    "    test_df['prix_m2_tot'] = y_pred_m2_array[1]\n",
    "    test_df['prix'] = test_df['prix_m2_tot'] * test_df['m2_total']\n",
    "\n",
    "    if is_scaled :\n",
    "        filename = f\"{date_filename}-cluster-prix-m2tot-DeScaled.csv\"\n",
    "        # Initialize the MinMaxScaler\n",
    "        scaler = MinMaxScaler()\n",
    "\n",
    "        prediction = test_df['prix']\n",
    "\n",
    "        # Fit the MinMaxScaler\n",
    "        scaler.fit(m2_price_col.values.reshape(-1, 1))\n",
    "        # Reshape predictions to a 2D array (necessary for inverse_transform)\n",
    "        predictions_scaled_reshaped = np.array(prediction).reshape(-1, 1)\n",
    "        # Reverse the Min-Max scaling (inverse transform)\n",
    "        predictions_original = scaler.inverse_transform(predictions_scaled_reshaped)\n",
    "\n",
    "        test_df['prix'] = predictions_original\n",
    "        test_df['id'] = id_col\n",
    "\n",
    "        test_df[['id', 'prix']].to_csv(filename, index=False)\n",
    "    \n",
    "    else :\n",
    "        filename = f\"{date_filename}-cluster-prix-m2tot.csv\"\n",
    "        test_df[['id', 'prix']].to_csv(filename, index=False)\n",
    "\n",
    "    print(f\"Fichier sauvegardé sous : {filename}\")\n",
    "\n",
    "    return y_pred_m2_array[1]\n",
    "\n",
    "def seperate_total_and_inside(array_to_separate):\n",
    "    array_inside = []\n",
    "    array_tot = []\n",
    "    for c in array_to_separate :\n",
    "        array_inside.append(c[0])\n",
    "        array_tot.append(c[1])\n",
    "    return array_inside, array_tot"
   ]
  },
  {
   "cell_type": "markdown",
   "metadata": {},
   "source": [
    "## On cherche les meilleurs paramètres avec grid search"
   ]
  },
  {
   "cell_type": "markdown",
   "metadata": {},
   "source": [
    "Meilleurs params :\n",
    "Sans zip code, sans clustering des zip code, etude du prix\n",
    "- Meilleurs paramètres : {'bootstrap': True, 'max_depth': 30, 'min_samples_leaf': 1, 'min_samples_split': 2, 'n_estimators': 200}\n",
    "\n",
    "Clustering des zips, etude du prix (52min13.9s)\n",
    "- Meilleurs paramètres : {'bootstrap': True, 'max_depth': 30, 'min_samples_leaf': 2, 'min_samples_split': 5, 'n_estimators': 200}\n",
    "\n",
    "Clustering, etude du prix au m2 intérieur (24min14.4s)\n",
    "- Meilleurs paramètres : {'bootstrap': True, 'max_depth': 20, 'min_samples_leaf': 2, 'min_samples_split': 2, 'n_estimators': 200}\n",
    "\n",
    "Clustering, prix m2 total, sin et scale (18min58.1s)\n",
    "- Meilleurs paramètres : {'bootstrap': True, 'max_depth': 20, 'min_samples_leaf': 1, 'min_samples_split': 2, 'n_estimators': 200}\n"
   ]
  },
  {
   "cell_type": "code",
   "execution_count": 14,
   "metadata": {},
   "outputs": [],
   "source": [
    "#target_columns = ['id', 'prix', 'prix_m2_interieur', 'prix_m2_total']\n",
    "#best_rf_m2_price = find_rf_best_estimator(train_df, target_columns)"
   ]
  },
  {
   "cell_type": "code",
   "execution_count": 15,
   "metadata": {},
   "outputs": [],
   "source": [
    "#prediction = predict_for_total_m2(train_scaled, test_scaled, best_rf_total_m2_price, True, m2_price_col = train_new['prix_m2_total']*train_new['m2_total'], id_col = test_new['id']) "
   ]
  },
  {
   "cell_type": "markdown",
   "metadata": {},
   "source": [
    "# le code du cours de Logic"
   ]
  },
  {
   "cell_type": "code",
   "execution_count": 16,
   "metadata": {},
   "outputs": [
    {
     "ename": "NameError",
     "evalue": "name 'a' is not defined",
     "output_type": "error",
     "traceback": [
      "\u001b[31m---------------------------------------------------------------------------\u001b[39m",
      "\u001b[31mNameError\u001b[39m                                 Traceback (most recent call last)",
      "\u001b[36mCell\u001b[39m\u001b[36m \u001b[39m\u001b[32mIn[16]\u001b[39m\u001b[32m, line 1\u001b[39m\n\u001b[32m----> \u001b[39m\u001b[32m1\u001b[39m \u001b[43ma\u001b[49m \u001b[38;5;66;03m# génération d'erreur pour stopper le kernel et éviter de spammer le kaggle\u001b[39;00m\n",
      "\u001b[31mNameError\u001b[39m: name 'a' is not defined"
     ]
    }
   ],
   "source": [
    "a # génération d'erreur pour stopper le kernel et éviter de spammer le kaggle"
   ]
  },
  {
   "cell_type": "code",
   "execution_count": null,
   "metadata": {},
   "outputs": [],
   "source": [
    "# Train a regression model\n",
    "#model = RandomForestRegressor(n_estimators=100, random_state=42, verbose=1, n_jobs=-1)\n",
    "#model.fit(X_train, y_train)"
   ]
  },
  {
   "cell_type": "code",
   "execution_count": null,
   "metadata": {},
   "outputs": [],
   "source": [
    "grid_search = GridSearchCV(estimator=model, param_grid=param_grid, cv=5, verbose=2, n_jobs=5)\n",
    "grid_search.fit(X_train, y_train)\n",
    "\n",
    "best_model = grid_search.best_estimator_"
   ]
  },
  {
   "cell_type": "code",
   "execution_count": null,
   "metadata": {},
   "outputs": [],
   "source": [
    "# Prepare the test data (we don't have 'Sales_Qty' for the test set)\n",
    "X_test = test_df.drop(columns=['index', 'Sales_Date'])"
   ]
  },
  {
   "cell_type": "code",
   "execution_count": null,
   "metadata": {},
   "outputs": [],
   "source": [
    "# Make predictions\n",
    "model = best_model\n",
    "predictions = model.predict(X_test)"
   ]
  },
  {
   "cell_type": "code",
   "execution_count": null,
   "metadata": {},
   "outputs": [],
   "source": [
    "# Output predictions (You can store them in a new DataFrame and save to CSV)\n",
    "test_df['Predicted_Sales_Qty'] = predictions\n",
    "test_df[['index', 'Predicted_Sales_Qty']].to_csv('predictions.csv', index=False)"
   ]
  },
  {
   "cell_type": "code",
   "execution_count": null,
   "metadata": {},
   "outputs": [],
   "source": [
    "# Optionally, evaluate the model on the training set\n",
    "train_predictions = model.predict(X_train)\n",
    "mse = mean_squared_error(y_train, train_predictions)\n",
    "print(f\"Mean Squared Error on training set: {mse}\")"
   ]
  }
 ],
 "metadata": {
  "kernelspec": {
   "display_name": "Python 3",
   "language": "python",
   "name": "python3"
  },
  "language_info": {
   "codemirror_mode": {
    "name": "ipython",
    "version": 3
   },
   "file_extension": ".py",
   "mimetype": "text/x-python",
   "name": "python",
   "nbconvert_exporter": "python",
   "pygments_lexer": "ipython3",
   "version": "3.13.2"
  }
 },
 "nbformat": 4,
 "nbformat_minor": 2
}
