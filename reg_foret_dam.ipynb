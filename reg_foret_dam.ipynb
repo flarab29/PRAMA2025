{
 "cells": [
  {
   "cell_type": "markdown",
   "metadata": {},
   "source": [
    "# Imports"
   ]
  },
  {
   "cell_type": "markdown",
   "metadata": {},
   "source": [
    "## Libs"
   ]
  },
  {
   "cell_type": "code",
   "execution_count": 1,
   "metadata": {},
   "outputs": [],
   "source": [
    "# Classic imports\n",
    "import pandas as pd\n",
    "import numpy as np\n",
    "\n",
    "# Sklearn imports\n",
    "from sklearn.model_selection import train_test_split\n",
    "from sklearn.metrics import mean_squared_error\n",
    "from sklearn.model_selection import cross_val_score\n",
    "# - Models -\n",
    "from sklearn.ensemble import RandomForestRegressor\n",
    "from sklearn.preprocessing import MinMaxScaler\n",
    "\n",
    "# Other imports\n",
    "import tqdm"
   ]
  },
  {
   "cell_type": "markdown",
   "metadata": {},
   "source": [
    "## Datasets"
   ]
  },
  {
   "cell_type": "code",
   "execution_count": 4,
   "metadata": {},
   "outputs": [
    {
     "name": "stdout",
     "output_type": "stream",
     "text": [
      "Train shape:  (17147, 32)\n",
      "Prediction file shape:  (4287, 29)\n"
     ]
    }
   ],
   "source": [
    "# Load the datasets\n",
    "train_name = \"train_with_clusters_with_sin_ratios_with_m2_price_scaled\" # nom du fichier csv à utiliser pour train\n",
    "pred_name = \"test_with_clusters_with_sin_ratios_with_m2_price_scaled\" # nom du fichier csv pour prédire\n",
    "\n",
    "train_df = pd.read_csv('CSV DATA/'+ train_name +'.csv')  # fichier csv à utiliser pour train\n",
    "pred_df = pd.read_csv('CSV DATA/'+ pred_name +'.csv')  # fichier csv pour prédire\n",
    "\n",
    "target_columns = ['prix', 'prix_m2_interieur' , 'prix_m2_total'] # colonnes à prédire\n",
    "\n",
    "#little printy print to see the data\n",
    "print(\"Train shape: \", train_df.shape)\n",
    "print(\"Prediction file shape: \", pred_df.shape)"
   ]
  },
  {
   "cell_type": "code",
   "execution_count": 6,
   "metadata": {},
   "outputs": [],
   "source": [
    "X_train, X_test, y_train, y_test = train_test_split(train_df.drop(columns=target_columns), train_df[target_columns], test_size=0.2, random_state=42)"
   ]
  },
  {
   "cell_type": "markdown",
   "metadata": {},
   "source": [
    "# Cross Validation"
   ]
  },
  {
   "cell_type": "code",
   "execution_count": 7,
   "metadata": {},
   "outputs": [],
   "source": [
    "def cross_val_func(model, X, y, cv=5):\n",
    "    # Perform cross-validation\n",
    "    scores = cross_val_score(model, X, y, cv=5)  # 5-fold cross-validation\n",
    "\n",
    "    # Print the cross-validation scores\n",
    "    print(f\"Cross-validation scores: {scores}\")\n",
    "    print(f\"Mean cross-validation score: {scores.mean()}\")\n",
    "    print(f\"Standard deviation of scores: {scores.std()}\")\n",
    "\n",
    "    return scores"
   ]
  },
  {
   "cell_type": "code",
   "execution_count": 8,
   "metadata": {},
   "outputs": [],
   "source": [
    "def RMSE_calc(x1, x2):\n",
    "    RMSE = np.sqrt(mean_squared_error(x1, x2))\n",
    "    print(\"RMSE: \", RMSE)\n",
    "    return RMSE"
   ]
  },
  {
   "cell_type": "markdown",
   "metadata": {},
   "source": [
    "# Train - regression pénalisée"
   ]
  },
  {
   "cell_type": "code",
   "execution_count": 9,
   "metadata": {},
   "outputs": [],
   "source": [
    "from sklearn.linear_model import Lasso"
   ]
  },
  {
   "cell_type": "code",
   "execution_count": 10,
   "metadata": {},
   "outputs": [],
   "source": [
    "def lasso_reg(X_train, y_train, X_test):\n",
    "    # Initialisation du modèle Lasso\n",
    "    lasso = Lasso(alpha=0.1)\n",
    "\n",
    "    # Entraînement du modèle\n",
    "    lasso.fit(X_train, y_train)\n",
    "\n",
    "    # Prédiction sur l'ensemble de test\n",
    "    y_pred = lasso.predict(X_test)\n",
    "\n",
    "    return y_pred"
   ]
  },
  {
   "cell_type": "markdown",
   "metadata": {},
   "source": [
    "## Comparaison RMSE du lasso"
   ]
  },
  {
   "cell_type": "code",
   "execution_count": null,
   "metadata": {},
   "outputs": [
    {
     "name": "stdout",
     "output_type": "stream",
     "text": [
      "RMSE:  0.11499759963766087\n"
     ]
    }
   ],
   "source": [
    "y_pred_lasso = lasso_reg(X_train, y_train, X_test)\n",
    "RMSE_lasso = RMSE_calc(y_test, y_pred_lasso)"
   ]
  },
  {
   "cell_type": "code",
   "execution_count": null,
   "metadata": {},
   "outputs": [],
   "source": [
    "q"
   ]
  },
  {
   "cell_type": "markdown",
   "metadata": {},
   "source": [
    "# First train model - Random Forest"
   ]
  },
  {
   "cell_type": "code",
   "execution_count": null,
   "metadata": {},
   "outputs": [],
   "source": [
    "from datetime import datetime\n",
    "\n",
    "def current_time_filename():\n",
    "    # Obtenir la date et l'heure actuelles au format mois_jour_heure_min pour au cas où on veut spammer le kaggle\n",
    "    current_time = datetime.now().strftime(\"%m_%d_%H_%M\")\n",
    "\n",
    "    # Et paf le nom de fichier avec la date et l'heure actuelles\n",
    "    file_name = f\"predictions_{current_time}\"\n",
    "\n",
    "    return file_name"
   ]
  },
  {
   "cell_type": "code",
   "execution_count": null,
   "metadata": {},
   "outputs": [],
   "source": [
    "rf = RandomForestRegressor(random_state=42)"
   ]
  },
  {
   "cell_type": "code",
   "execution_count": null,
   "metadata": {},
   "outputs": [],
   "source": [
    "from sklearn.model_selection import GridSearchCV\n",
    "\n",
    "param_grid = {\n",
    "    'n_estimators': [50, 100, 200],  # Nombre d'arbres dans la forêt\n",
    "    'max_depth': [10, 20, 30],#, None],  # Profondeur maximale des arbres\n",
    "    'min_samples_split': [2, 5, 10],  # Nombre minimal d'échantillons pour une division interne\n",
    "    'min_samples_leaf': [1, 2, 4],    # Nombre minimal d'échantillons par feuille\n",
    "    'bootstrap': [True, False]        # Utiliser bootstrap ou non, via ce qu'à dit le prof\n",
    "}"
   ]
  },
  {
   "cell_type": "code",
   "execution_count": null,
   "metadata": {},
   "outputs": [],
   "source": [
    "# train with price m2\n",
    "grid_search = GridSearchCV(estimator=rf, param_grid=param_grid, \n",
    "                           cv=5, n_jobs=-1, verbose=2, scoring='neg_mean_absolute_error')\n",
    "\n",
    "def train_with_total_m2_price(train_df, test_df):\n",
    "    X_train = train_df.drop(columns=['id', 'prix', 'prix_m2_interieur', 'prix_m2_total'])\n",
    "    y_train = train_df[['prix_m2_interieur', 'prix_m2_total']]\n",
    "\n",
    "    print(\"X_train shape: \", X_train.shape)\n",
    "    print(\"y_train shape: \", y_train.shape)\n",
    "\n",
    "    grid_search.fit(X_train, y_train)\n",
    "\n",
    "    print(f\"Meilleurs paramètres : {grid_search.best_params_}\")\n",
    "\n",
    "    return grid_search.best_estimator_\n",
    "\n",
    "def train_with_m2_price(train_df, test_df):\n",
    "    X_train = train_df.drop(columns=['id', 'prix', 'prix_m2_interieur', 'prix_m2_total'])\n",
    "    y_train = train_df['prix_m2_interieur']\n",
    "\n",
    "    print(\"X_train shape: \", X_train.shape)\n",
    "    print(\"y_train shape: \", y_train.shape)\n",
    "\n",
    "    grid_search.fit(X_train, y_train)\n",
    "\n",
    "    print(f\"Meilleurs paramètres : {grid_search.best_params_}\")\n",
    "\n",
    "    return grid_search.best_estimator_\n",
    "\n",
    "def train_with_price(train_df, test_df):\n",
    "    X_train = train_df.drop(columns=['id', 'prix'])\n",
    "    y_train = train_df['prix']\n",
    "\n",
    "    grid_search.fit(X_train, y_train)\n",
    "\n",
    "    print(f\"Meilleurs paramètres : {grid_search.best_params_}\")\n",
    "\n",
    "    return grid_search.best_estimator_\n",
    "    "
   ]
  },
  {
   "cell_type": "markdown",
   "metadata": {},
   "source": [
    "## On cherche les meilleurs paramètres avec grid search"
   ]
  },
  {
   "cell_type": "markdown",
   "metadata": {},
   "source": [
    "Meilleurs params :\n",
    "Sans zip code, sans clustering des zip code, etude du prix\n",
    "- Meilleurs paramètres : {'bootstrap': True, 'max_depth': 30, 'min_samples_leaf': 1, 'min_samples_split': 2, 'n_estimators': 200}\n",
    "\n",
    "Clustering des zips, etude du prix (52min13.9s)\n",
    "- Meilleurs paramètres : {'bootstrap': True, 'max_depth': 30, 'min_samples_leaf': 2, 'min_samples_split': 5, 'n_estimators': 200}\n",
    "\n",
    "Clustering, etude du prix au m2 intérieur (24min14.4s)\n",
    "- Meilleurs paramètres : {'bootstrap': True, 'max_depth': 20, 'min_samples_leaf': 2, 'min_samples_split': 2, 'n_estimators': 200}\n",
    "\n",
    "Clustering, prix m2 total, sin et scale (18min58.1s)\n",
    "- Meilleurs paramètres : {'bootstrap': True, 'max_depth': 20, 'min_samples_leaf': 1, 'min_samples_split': 2, 'n_estimators': 200}\n"
   ]
  },
  {
   "cell_type": "code",
   "execution_count": null,
   "metadata": {},
   "outputs": [],
   "source": [
    "# best_rf_m2_price = train_with_m2_price(train_new, test_new)"
   ]
  },
  {
   "cell_type": "code",
   "execution_count": null,
   "metadata": {},
   "outputs": [],
   "source": [
    "# best_rf_full_price = train_with_price(train_df, test_df)"
   ]
  },
  {
   "cell_type": "code",
   "execution_count": null,
   "metadata": {},
   "outputs": [],
   "source": [
    "# best_rf_total_m2_price = train_with_total_m2_price(train_scaled, test_scaled)"
   ]
  },
  {
   "cell_type": "code",
   "execution_count": null,
   "metadata": {},
   "outputs": [],
   "source": [
    "def predict_for_m2(train_df, test_df):\n",
    "    X_train = train_df.drop(columns=['id', 'prix', 'prix_m2_interieur', 'prix_m2_total'])\n",
    "    y_train = train_df['prix_m2_interieur']\n",
    "\n",
    "    model = RandomForestRegressor(bootstrap = True, max_depth = 20, min_samples_leaf = 2, min_samples_split = 2, n_estimators = 200, verbose=2, n_jobs=-1)\n",
    "\n",
    "    model.fit(X_train, y_train)\n",
    "\n",
    "    X_test = test_df.drop(columns=['id'])\n",
    "\n",
    "    y_pred_m2 = model.predict(X_test) # la ca predit pour un prix au m2 !\n",
    "    print(len(y_pred_m2)) # ca c'est pour du debug\n",
    "\n",
    "    date_filename = current_time_filename()\n",
    "    print(date_filename)\n",
    "\n",
    "    filename = f\"{date_filename}-cluster-prix-m2-1.csv\"\n",
    "    # Sauvegarder les résultats dans un fichier CSV avec ce nouveau nom\n",
    "    test_df['prix_m2'] = y_pred_m2\n",
    "    test_df['prix'] = test_df['prix_m2'] * test_df['m2_interieur']\n",
    "    test_df[['id', 'prix']].to_csv(filename, index=False)\n",
    "\n",
    "    print(f\"Fichier sauvegardé sous : {filename}\")\n",
    "\n",
    "def predict_for_total_m2(train_df, test_df, estimator = False, is_scaled = False, m2_price_col = None, id_col = None):\n",
    "    X_train = train_df.drop(columns=['id', 'prix', 'prix_m2_interieur', 'prix_m2_total'])\n",
    "    y_train = train_df[['prix_m2_interieur', 'prix_m2_total']]\n",
    "    \n",
    "    if not estimator :\n",
    "        model = RandomForestRegressor(bootstrap = True, max_depth = 20, min_samples_leaf = 2, min_samples_split = 2, n_estimators = 200, verbose=1, n_jobs=-1)\n",
    "    else :\n",
    "        model = estimator\n",
    "\n",
    "    model.fit(X_train, y_train)\n",
    "\n",
    "    X_test = test_df.drop(columns=['id'])\n",
    "\n",
    "    y_pred_m2 = model.predict(X_test) # la ca predit pour un prix au m2 !\n",
    "    print(len(y_pred_m2)) # ca c'est pour du debug\n",
    "\n",
    "    #print(y_pred_m2[0]) # on voit que le premier de chaque duo est le prix au m2 interieur, l'autre au total\n",
    "\n",
    "    y_pred_m2_array = seperate_total_and_inside(y_pred_m2)\n",
    "\n",
    "    date_filename = current_time_filename()\n",
    "    print(date_filename)\n",
    "\n",
    "    # Sauvegarder les résultats dans un fichier CSV avec ce nouveau nom\n",
    "    test_df['prix_m2_tot'] = y_pred_m2_array[1]\n",
    "    test_df['prix'] = test_df['prix_m2_tot'] * test_df['m2_total']\n",
    "\n",
    "    if is_scaled :\n",
    "        filename = f\"{date_filename}-cluster-prix-m2tot-DeScaled.csv\"\n",
    "        # Initialize the MinMaxScaler\n",
    "        scaler = MinMaxScaler()\n",
    "\n",
    "        prediction = test_df['prix']\n",
    "\n",
    "        # Fit the MinMaxScaler\n",
    "        scaler.fit(m2_price_col.values.reshape(-1, 1))\n",
    "        # Reshape predictions to a 2D array (necessary for inverse_transform)\n",
    "        predictions_scaled_reshaped = np.array(prediction).reshape(-1, 1)\n",
    "        # Reverse the Min-Max scaling (inverse transform)\n",
    "        predictions_original = scaler.inverse_transform(predictions_scaled_reshaped)\n",
    "\n",
    "        test_df['prix'] = predictions_original\n",
    "        test_df['id'] = id_col\n",
    "\n",
    "        test_df[['id', 'prix']].to_csv(filename, index=False)\n",
    "    \n",
    "    else :\n",
    "        filename = f\"{date_filename}-cluster-prix-m2tot.csv\"\n",
    "        test_df[['id', 'prix']].to_csv(filename, index=False)\n",
    "\n",
    "    print(f\"Fichier sauvegardé sous : {filename}\")\n",
    "\n",
    "    return y_pred_m2_array[1]\n",
    "\n",
    "def seperate_total_and_inside(array_to_separate):\n",
    "    array_inside = []\n",
    "    array_tot = []\n",
    "    for c in array_to_separate :\n",
    "        array_inside.append(c[0])\n",
    "        array_tot.append(c[1])\n",
    "    return array_inside, array_tot"
   ]
  },
  {
   "cell_type": "code",
   "execution_count": null,
   "metadata": {},
   "outputs": [],
   "source": [
    "prediction = predict_for_total_m2(train_scaled, test_scaled, best_rf_total_m2_price, True, m2_price_col = train_new['prix_m2_total']*train_new['m2_total'], id_col = test_new['id']) "
   ]
  },
  {
   "cell_type": "code",
   "execution_count": null,
   "metadata": {},
   "outputs": [],
   "source": []
  },
  {
   "cell_type": "code",
   "execution_count": null,
   "metadata": {},
   "outputs": [],
   "source": []
  },
  {
   "cell_type": "markdown",
   "metadata": {},
   "source": [
    "# le code du cours de Logic"
   ]
  },
  {
   "cell_type": "code",
   "execution_count": null,
   "metadata": {},
   "outputs": [],
   "source": [
    "# Train a regression model\n",
    "#model = RandomForestRegressor(n_estimators=100, random_state=42, verbose=1, n_jobs=-1)\n",
    "#model.fit(X_train, y_train)"
   ]
  },
  {
   "cell_type": "code",
   "execution_count": null,
   "metadata": {},
   "outputs": [],
   "source": [
    "grid_search = GridSearchCV(estimator=model, param_grid=param_grid, cv=5, verbose=2, n_jobs=5)\n",
    "grid_search.fit(X_train, y_train)\n",
    "\n",
    "best_model = grid_search.best_estimator_"
   ]
  },
  {
   "cell_type": "code",
   "execution_count": null,
   "metadata": {},
   "outputs": [],
   "source": [
    "# Prepare the test data (we don't have 'Sales_Qty' for the test set)\n",
    "X_test = test_df.drop(columns=['index', 'Sales_Date'])"
   ]
  },
  {
   "cell_type": "code",
   "execution_count": null,
   "metadata": {},
   "outputs": [],
   "source": [
    "# Make predictions\n",
    "model = best_model\n",
    "predictions = model.predict(X_test)"
   ]
  },
  {
   "cell_type": "code",
   "execution_count": null,
   "metadata": {},
   "outputs": [],
   "source": [
    "# Output predictions (You can store them in a new DataFrame and save to CSV)\n",
    "test_df['Predicted_Sales_Qty'] = predictions\n",
    "test_df[['index', 'Predicted_Sales_Qty']].to_csv('predictions.csv', index=False)"
   ]
  },
  {
   "cell_type": "code",
   "execution_count": null,
   "metadata": {},
   "outputs": [],
   "source": [
    "# Optionally, evaluate the model on the training set\n",
    "train_predictions = model.predict(X_train)\n",
    "mse = mean_squared_error(y_train, train_predictions)\n",
    "print(f\"Mean Squared Error on training set: {mse}\")"
   ]
  }
 ],
 "metadata": {
  "kernelspec": {
   "display_name": "Python 3",
   "language": "python",
   "name": "python3"
  },
  "language_info": {
   "codemirror_mode": {
    "name": "ipython",
    "version": 3
   },
   "file_extension": ".py",
   "mimetype": "text/x-python",
   "name": "python",
   "nbconvert_exporter": "python",
   "pygments_lexer": "ipython3",
   "version": "3.13.2"
  }
 },
 "nbformat": 4,
 "nbformat_minor": 2
}
