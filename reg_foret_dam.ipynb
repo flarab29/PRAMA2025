{
 "cells": [
  {
   "cell_type": "markdown",
   "metadata": {},
   "source": [
    "# Imports"
   ]
  },
  {
   "cell_type": "markdown",
   "metadata": {},
   "source": [
    "## Libs"
   ]
  },
  {
   "cell_type": "code",
   "execution_count": 13,
   "metadata": {},
   "outputs": [],
   "source": [
    "# Classic imports\n",
    "import pandas as pd\n",
    "import numpy as np\n",
    "\n",
    "# Sklearn imports\n",
    "from sklearn.model_selection import train_test_split\n",
    "from sklearn.metrics import mean_squared_error\n",
    "from sklearn.model_selection import cross_val_score\n",
    "# - Models -\n",
    "from sklearn.ensemble import RandomForestRegressor\n",
    "from sklearn.preprocessing import MinMaxScaler\n",
    "\n",
    "# Other imports\n",
    "import tqdm"
   ]
  },
  {
   "cell_type": "markdown",
   "metadata": {},
   "source": [
    "## Datasets"
   ]
  },
  {
   "cell_type": "code",
   "execution_count": null,
   "metadata": {},
   "outputs": [
    {
     "name": "stdout",
     "output_type": "stream",
     "text": [
      "Train shape:  (17147, 32)\n",
      "Prediction file shape:  (4287, 29)\n"
     ]
    }
   ],
   "source": [
    "# Load the datasets\n",
    "train_name = \"train_with_clusters_with_sin_ratios_with_m2_price_scaled\" # nom du fichier csv à utiliser pour train\n",
    "pred_name = \"test_with_clusters_with_sin_ratios_with_m2_price_scaled\" # nom du fichier csv pour prédire\n",
    "\n",
    "train_df = pd.read_csv('CSV DATA/'+ train_name +'.csv')  # fichier csv à utiliser pour train\n",
    "pred_df = pd.read_csv('CSV DATA/'+ pred_name +'.csv')  # fichier csv pour prédire\n",
    "\n",
    "target_columns = ['prix', 'prix_m2_interieur' , 'prix_m2_total'] # colonnes à prédire\n",
    "\n",
    "#little printy print to see the data\n",
    "print(\"Train shape: \", train_df.shape)\n",
    "print(\"Prediction file shape: \", pred_df.shape)"
   ]
  },
  {
   "cell_type": "code",
   "execution_count": 6,
   "metadata": {},
   "outputs": [],
   "source": [
    "X_train, X_test, y_train, y_test = train_test_split(train_df.drop(columns=target_columns), train_df[target_columns], test_size=0.2, random_state=42)"
   ]
  },
  {
   "cell_type": "code",
   "execution_count": 15,
   "metadata": {},
   "outputs": [
    {
     "data": {
      "text/plain": [
       "((13717, 29), (3430, 29), (13717, 3), (3430, 3))"
      ]
     },
     "execution_count": 15,
     "metadata": {},
     "output_type": "execute_result"
    }
   ],
   "source": [
    "X_train.shape, X_test.shape, y_train.shape, y_test.shape"
   ]
  },
  {
   "cell_type": "markdown",
   "metadata": {},
   "source": [
    "# Cross Validation"
   ]
  },
  {
   "cell_type": "code",
   "execution_count": 16,
   "metadata": {},
   "outputs": [],
   "source": [
    "def cross_val_func(model, X, y, cv=5):\n",
    "    # Perform cross-validation\n",
    "    scores = cross_val_score(model, X, y, cv=cv)  # 5-fold cross-validation\n",
    "\n",
    "    # Print the cross-validation scores\n",
    "    print(f\"Cross-validation scores: {scores}\")\n",
    "    print(f\"Mean cross-validation score: {scores.mean()}\")\n",
    "    print(f\"Standard deviation of scores: {scores.std()}\")\n",
    "\n",
    "    return scores"
   ]
  },
  {
   "cell_type": "code",
   "execution_count": 17,
   "metadata": {},
   "outputs": [],
   "source": [
    "def RMSE_calc(x1, x2):\n",
    "    RMSE = np.sqrt(mean_squared_error(x1, x2))\n",
    "    print(\"RMSE: \", RMSE)\n",
    "    return RMSE"
   ]
  },
  {
   "cell_type": "markdown",
   "metadata": {},
   "source": [
    "# Model - regression pénalisée"
   ]
  },
  {
   "cell_type": "markdown",
   "metadata": {},
   "source": [
    "## Useful functions"
   ]
  },
  {
   "cell_type": "code",
   "execution_count": 18,
   "metadata": {},
   "outputs": [],
   "source": [
    "from sklearn.linear_model import Lasso"
   ]
  },
  {
   "cell_type": "code",
   "execution_count": 19,
   "metadata": {},
   "outputs": [],
   "source": [
    "def lasso_reg(X_train, y_train, X_test, lasso = None):\n",
    "    if lasso :\n",
    "        lasso = lasso\n",
    "    else :\n",
    "        # Initialisation du modèle Lasso\n",
    "        lasso = Lasso(alpha=0.1)\n",
    "\n",
    "    # Entraînement du modèle\n",
    "    lasso.fit(X_train, y_train)\n",
    "\n",
    "    # Prédiction sur l'ensemble de test\n",
    "    y_pred = lasso.predict(X_test)\n",
    "\n",
    "    return y_pred, lasso"
   ]
  },
  {
   "cell_type": "code",
   "execution_count": 25,
   "metadata": {},
   "outputs": [
    {
     "ename": "KeyError",
     "evalue": "\"['prix_m2_interieur', 'prix_m2_total'] not in index\"",
     "output_type": "error",
     "traceback": [
      "\u001b[1;31m---------------------------------------------------------------------------\u001b[0m",
      "\u001b[1;31mKeyError\u001b[0m                                  Traceback (most recent call last)",
      "Cell \u001b[1;32mIn[25], line 5\u001b[0m\n\u001b[0;32m      3\u001b[0m \u001b[38;5;28;01mfrom\u001b[39;00m \u001b[38;5;21;01msklearn\u001b[39;00m\u001b[38;5;21;01m.\u001b[39;00m\u001b[38;5;21;01mpreprocessing\u001b[39;00m \u001b[38;5;28;01mimport\u001b[39;00m MinMaxScaler\n\u001b[0;32m      4\u001b[0m \u001b[38;5;28;01mfrom\u001b[39;00m \u001b[38;5;21;01msklearn\u001b[39;00m\u001b[38;5;21;01m.\u001b[39;00m\u001b[38;5;21;01mpreprocessing\u001b[39;00m \u001b[38;5;28;01mimport\u001b[39;00m StandardScaler\n\u001b[1;32m----> 5\u001b[0m unscaled_data \u001b[38;5;241m=\u001b[39m \u001b[43mpd\u001b[49m\u001b[38;5;241;43m.\u001b[39;49m\u001b[43mread_csv\u001b[49m\u001b[43m(\u001b[49m\u001b[38;5;124;43m'\u001b[39;49m\u001b[38;5;124;43mCSV data/train_with_clusters.csv\u001b[39;49m\u001b[38;5;124;43m'\u001b[39;49m\u001b[43m)\u001b[49m\u001b[43m[\u001b[49m\u001b[43mtarget_columns\u001b[49m\u001b[43m]\u001b[49m\n\u001b[0;32m      6\u001b[0m scaler \u001b[38;5;241m=\u001b[39m MinMaxScaler()\n\u001b[0;32m      7\u001b[0m scaler\u001b[38;5;241m.\u001b[39mfit(unscaled_data)\n",
      "File \u001b[1;32mc:\\Users\\flobm\\anaconda3\\Lib\\site-packages\\pandas\\core\\frame.py:3813\u001b[0m, in \u001b[0;36mDataFrame.__getitem__\u001b[1;34m(self, key)\u001b[0m\n\u001b[0;32m   3811\u001b[0m     \u001b[38;5;28;01mif\u001b[39;00m is_iterator(key):\n\u001b[0;32m   3812\u001b[0m         key \u001b[38;5;241m=\u001b[39m \u001b[38;5;28mlist\u001b[39m(key)\n\u001b[1;32m-> 3813\u001b[0m     indexer \u001b[38;5;241m=\u001b[39m \u001b[38;5;28;43mself\u001b[39;49m\u001b[38;5;241;43m.\u001b[39;49m\u001b[43mcolumns\u001b[49m\u001b[38;5;241;43m.\u001b[39;49m\u001b[43m_get_indexer_strict\u001b[49m\u001b[43m(\u001b[49m\u001b[43mkey\u001b[49m\u001b[43m,\u001b[49m\u001b[43m \u001b[49m\u001b[38;5;124;43m\"\u001b[39;49m\u001b[38;5;124;43mcolumns\u001b[39;49m\u001b[38;5;124;43m\"\u001b[39;49m\u001b[43m)\u001b[49m[\u001b[38;5;241m1\u001b[39m]\n\u001b[0;32m   3815\u001b[0m \u001b[38;5;66;03m# take() does not accept boolean indexers\u001b[39;00m\n\u001b[0;32m   3816\u001b[0m \u001b[38;5;28;01mif\u001b[39;00m \u001b[38;5;28mgetattr\u001b[39m(indexer, \u001b[38;5;124m\"\u001b[39m\u001b[38;5;124mdtype\u001b[39m\u001b[38;5;124m\"\u001b[39m, \u001b[38;5;28;01mNone\u001b[39;00m) \u001b[38;5;241m==\u001b[39m \u001b[38;5;28mbool\u001b[39m:\n",
      "File \u001b[1;32mc:\\Users\\flobm\\anaconda3\\Lib\\site-packages\\pandas\\core\\indexes\\base.py:6070\u001b[0m, in \u001b[0;36mIndex._get_indexer_strict\u001b[1;34m(self, key, axis_name)\u001b[0m\n\u001b[0;32m   6067\u001b[0m \u001b[38;5;28;01melse\u001b[39;00m:\n\u001b[0;32m   6068\u001b[0m     keyarr, indexer, new_indexer \u001b[38;5;241m=\u001b[39m \u001b[38;5;28mself\u001b[39m\u001b[38;5;241m.\u001b[39m_reindex_non_unique(keyarr)\n\u001b[1;32m-> 6070\u001b[0m \u001b[38;5;28;43mself\u001b[39;49m\u001b[38;5;241;43m.\u001b[39;49m\u001b[43m_raise_if_missing\u001b[49m\u001b[43m(\u001b[49m\u001b[43mkeyarr\u001b[49m\u001b[43m,\u001b[49m\u001b[43m \u001b[49m\u001b[43mindexer\u001b[49m\u001b[43m,\u001b[49m\u001b[43m \u001b[49m\u001b[43maxis_name\u001b[49m\u001b[43m)\u001b[49m\n\u001b[0;32m   6072\u001b[0m keyarr \u001b[38;5;241m=\u001b[39m \u001b[38;5;28mself\u001b[39m\u001b[38;5;241m.\u001b[39mtake(indexer)\n\u001b[0;32m   6073\u001b[0m \u001b[38;5;28;01mif\u001b[39;00m \u001b[38;5;28misinstance\u001b[39m(key, Index):\n\u001b[0;32m   6074\u001b[0m     \u001b[38;5;66;03m# GH 42790 - Preserve name from an Index\u001b[39;00m\n",
      "File \u001b[1;32mc:\\Users\\flobm\\anaconda3\\Lib\\site-packages\\pandas\\core\\indexes\\base.py:6133\u001b[0m, in \u001b[0;36mIndex._raise_if_missing\u001b[1;34m(self, key, indexer, axis_name)\u001b[0m\n\u001b[0;32m   6130\u001b[0m     \u001b[38;5;28;01mraise\u001b[39;00m \u001b[38;5;167;01mKeyError\u001b[39;00m(\u001b[38;5;124mf\u001b[39m\u001b[38;5;124m\"\u001b[39m\u001b[38;5;124mNone of [\u001b[39m\u001b[38;5;132;01m{\u001b[39;00mkey\u001b[38;5;132;01m}\u001b[39;00m\u001b[38;5;124m] are in the [\u001b[39m\u001b[38;5;132;01m{\u001b[39;00maxis_name\u001b[38;5;132;01m}\u001b[39;00m\u001b[38;5;124m]\u001b[39m\u001b[38;5;124m\"\u001b[39m)\n\u001b[0;32m   6132\u001b[0m not_found \u001b[38;5;241m=\u001b[39m \u001b[38;5;28mlist\u001b[39m(ensure_index(key)[missing_mask\u001b[38;5;241m.\u001b[39mnonzero()[\u001b[38;5;241m0\u001b[39m]]\u001b[38;5;241m.\u001b[39munique())\n\u001b[1;32m-> 6133\u001b[0m \u001b[38;5;28;01mraise\u001b[39;00m \u001b[38;5;167;01mKeyError\u001b[39;00m(\u001b[38;5;124mf\u001b[39m\u001b[38;5;124m\"\u001b[39m\u001b[38;5;132;01m{\u001b[39;00mnot_found\u001b[38;5;132;01m}\u001b[39;00m\u001b[38;5;124m not in index\u001b[39m\u001b[38;5;124m\"\u001b[39m)\n",
      "\u001b[1;31mKeyError\u001b[0m: \"['prix_m2_interieur', 'prix_m2_total'] not in index\""
     ]
    }
   ],
   "source": [
    "# on importe les fichiers avant scaling pour entrainer un standardscaler dessus,\n",
    "# et l'utiliser pour de-scaler les prédictions et voir les scores à l'échelle\n",
    "from sklearn.preprocessing import MinMaxScaler\n",
    "from sklearn.preprocessing import StandardScaler\n",
    "unscaled_data = pd.read_csv('CSV data/train_with_clusters.csv')[target_columns]\n",
    "scaler = MinMaxScaler()\n",
    "scaler.fit(unscaled_data)"
   ]
  },
  {
   "cell_type": "markdown",
   "metadata": {},
   "source": [
    "## Comparaison RMSE du lasso"
   ]
  },
  {
   "cell_type": "code",
   "execution_count": 24,
   "metadata": {},
   "outputs": [
    {
     "name": "stdout",
     "output_type": "stream",
     "text": [
      "Cross-validation scores: [ 0.00238959 -0.00093917  0.00047778  0.00142405  0.00180318]\n",
      "Mean cross-validation score: 0.0010310869086803528\n",
      "Standard deviation of scores: 0.001164829080732257\n",
      "RMSE:  0.11499759963766087\n"
     ]
    }
   ],
   "source": [
    "lasso = Lasso(alpha=0.1)\n",
    "y_pred_lasso = lasso_reg(X_train, y_train, X_test, lasso)[0]\n",
    "scores_crossval_lasso = cross_val_func(lasso, X_train, y_train, cv = 5)\n",
    "\n",
    "RMSE_lasso = RMSE_calc(y_test, y_pred_lasso)"
   ]
  },
  {
   "cell_type": "markdown",
   "metadata": {},
   "source": [
    "# Model - Random Forest"
   ]
  },
  {
   "cell_type": "markdown",
   "metadata": {},
   "source": [
    "## Useful functions"
   ]
  },
  {
   "cell_type": "markdown",
   "metadata": {},
   "source": [
    "### time for filename of prediction"
   ]
  },
  {
   "cell_type": "code",
   "execution_count": 9,
   "metadata": {},
   "outputs": [],
   "source": [
    "from datetime import datetime\n",
    "\n",
    "def current_time_filename():\n",
    "    # Obtenir la date et l'heure actuelles au format mois_jour_heure_min pour au cas où on veut spammer le kaggle\n",
    "    current_time = datetime.now().strftime(\"%m_%d_%H_%M\")\n",
    "\n",
    "    # Et paf le nom de fichier avec la date et l'heure actuelles\n",
    "    file_name = f\"predictions_{current_time}\"\n",
    "\n",
    "    return file_name"
   ]
  },
  {
   "cell_type": "markdown",
   "metadata": {},
   "source": [
    "### gridsearch of randomforest"
   ]
  },
  {
   "cell_type": "code",
   "execution_count": 10,
   "metadata": {},
   "outputs": [],
   "source": [
    "rf = RandomForestRegressor(random_state=42)"
   ]
  },
  {
   "cell_type": "code",
   "execution_count": 11,
   "metadata": {},
   "outputs": [],
   "source": [
    "from sklearn.model_selection import GridSearchCV\n",
    "\n",
    "param_grid = {\n",
    "    'n_estimators': [50, 100, 200],  # Nombre d'arbres dans la forêt\n",
    "    'max_depth': [10, 20, 30],#, None],  # Profondeur maximale des arbres\n",
    "    'min_samples_split': [2, 5, 10],  # Nombre minimal d'échantillons pour une division interne\n",
    "    'min_samples_leaf': [1, 2, 4],    # Nombre minimal d'échantillons par feuille\n",
    "    'bootstrap': [True, False]        # Utiliser bootstrap ou non, via ce qu'à dit le prof\n",
    "}"
   ]
  },
  {
   "cell_type": "code",
   "execution_count": 12,
   "metadata": {},
   "outputs": [],
   "source": [
    "# train with price m2\n",
    "grid_search = GridSearchCV(estimator=rf, param_grid=param_grid, \n",
    "                           cv=5, n_jobs=-1, verbose=2, scoring='neg_mean_absolute_error')\n",
    "\n",
    "def find_rf_best_estimator(train_df, target_columns):\n",
    "    X_train = train_df.drop(columns=target_columns)\n",
    "    y_train = train_df[['prix_m2_interieur', 'prix_m2_total']]\n",
    "\n",
    "    print(\"X_train shape: \", X_train.shape)\n",
    "    print(\"y_train shape: \", y_train.shape)\n",
    "\n",
    "    grid_search.fit(X_train, y_train)\n",
    "\n",
    "    print(f\"Meilleurs paramètres : {grid_search.best_params_}\")\n",
    "\n",
    "    return grid_search.best_estimator_\n"
   ]
  },
  {
   "cell_type": "markdown",
   "metadata": {},
   "source": [
    "### Prediction functions"
   ]
  },
  {
   "cell_type": "code",
   "execution_count": 13,
   "metadata": {},
   "outputs": [],
   "source": [
    "def predict_for_m2(train_df, test_df):\n",
    "    X_train = train_df.drop(columns=['id', 'prix', 'prix_m2_interieur', 'prix_m2_total'])\n",
    "    y_train = train_df['prix_m2_interieur']\n",
    "\n",
    "    model = RandomForestRegressor(bootstrap = True, max_depth = 20, min_samples_leaf = 2, min_samples_split = 2, n_estimators = 200, verbose=2, n_jobs=-1)\n",
    "\n",
    "    model.fit(X_train, y_train)\n",
    "\n",
    "    X_test = test_df.drop(columns=['id'])\n",
    "\n",
    "    y_pred_m2 = model.predict(X_test) # la ca predit pour un prix au m2 !\n",
    "    print(len(y_pred_m2)) # ca c'est pour du debug\n",
    "\n",
    "    date_filename = current_time_filename()\n",
    "    print(date_filename)\n",
    "\n",
    "    filename = f\"{date_filename}-cluster-prix-m2-1.csv\"\n",
    "    # Sauvegarder les résultats dans un fichier CSV avec ce nouveau nom\n",
    "    test_df['prix_m2'] = y_pred_m2\n",
    "    test_df['prix'] = test_df['prix_m2'] * test_df['m2_interieur']\n",
    "    test_df[['id', 'prix']].to_csv(filename, index=False)\n",
    "\n",
    "    print(f\"Fichier sauvegardé sous : {filename}\")\n",
    "\n",
    "def predict_for_total_m2(train_df, test_df, estimator = False, is_scaled = False, m2_price_col = None, id_col = None):\n",
    "    X_train = train_df.drop(columns=['id', 'prix', 'prix_m2_interieur', 'prix_m2_total'])\n",
    "    y_train = train_df[['prix_m2_interieur', 'prix_m2_total']]\n",
    "    \n",
    "    if not estimator :\n",
    "        model = RandomForestRegressor(bootstrap = True, max_depth = 20, min_samples_leaf = 2, min_samples_split = 2, n_estimators = 200, verbose=1, n_jobs=-1)\n",
    "    else :\n",
    "        model = estimator\n",
    "\n",
    "    model.fit(X_train, y_train)\n",
    "\n",
    "    X_test = test_df.drop(columns=['id'])\n",
    "\n",
    "    y_pred_m2 = model.predict(X_test) # la ca predit pour un prix au m2 !\n",
    "    print(len(y_pred_m2)) # ca c'est pour du debug\n",
    "\n",
    "    #print(y_pred_m2[0]) # on voit que le premier de chaque duo est le prix au m2 interieur, l'autre au total\n",
    "\n",
    "    y_pred_m2_array = seperate_total_and_inside(y_pred_m2)\n",
    "\n",
    "    date_filename = current_time_filename()\n",
    "    print(date_filename)\n",
    "\n",
    "    # Sauvegarder les résultats dans un fichier CSV avec ce nouveau nom\n",
    "    test_df['prix_m2_tot'] = y_pred_m2_array[1]\n",
    "    test_df['prix'] = test_df['prix_m2_tot'] * test_df['m2_total']\n",
    "\n",
    "    if is_scaled :\n",
    "        filename = f\"{date_filename}-cluster-prix-m2tot-DeScaled.csv\"\n",
    "        # Initialize the MinMaxScaler\n",
    "        scaler = MinMaxScaler()\n",
    "\n",
    "        prediction = test_df['prix']\n",
    "\n",
    "        # Fit the MinMaxScaler\n",
    "        scaler.fit(m2_price_col.values.reshape(-1, 1))\n",
    "        # Reshape predictions to a 2D array (necessary for inverse_transform)\n",
    "        predictions_scaled_reshaped = np.array(prediction).reshape(-1, 1)\n",
    "        # Reverse the Min-Max scaling (inverse transform)\n",
    "        predictions_original = scaler.inverse_transform(predictions_scaled_reshaped)\n",
    "\n",
    "        test_df['prix'] = predictions_original\n",
    "        test_df['id'] = id_col\n",
    "\n",
    "        test_df[['id', 'prix']].to_csv(filename, index=False)\n",
    "    \n",
    "    else :\n",
    "        filename = f\"{date_filename}-cluster-prix-m2tot.csv\"\n",
    "        test_df[['id', 'prix']].to_csv(filename, index=False)\n",
    "\n",
    "    print(f\"Fichier sauvegardé sous : {filename}\")\n",
    "\n",
    "    return y_pred_m2_array[1]\n",
    "\n",
    "def seperate_total_and_inside(array_to_separate):\n",
    "    array_inside = []\n",
    "    array_tot = []\n",
    "    for c in array_to_separate :\n",
    "        array_inside.append(c[0])\n",
    "        array_tot.append(c[1])\n",
    "    return array_inside, array_tot"
   ]
  },
  {
   "cell_type": "markdown",
   "metadata": {},
   "source": [
    "## On cherche les meilleurs paramètres avec grid search"
   ]
  },
  {
   "cell_type": "markdown",
   "metadata": {},
   "source": [
    "Meilleurs params :\n",
    "Sans zip code, sans clustering des zip code, etude du prix\n",
    "- Meilleurs paramètres : {'bootstrap': True, 'max_depth': 30, 'min_samples_leaf': 1, 'min_samples_split': 2, 'n_estimators': 200}\n",
    "\n",
    "Clustering des zips, etude du prix (52min13.9s)\n",
    "- Meilleurs paramètres : {'bootstrap': True, 'max_depth': 30, 'min_samples_leaf': 2, 'min_samples_split': 5, 'n_estimators': 200}\n",
    "\n",
    "Clustering, etude du prix au m2 intérieur (24min14.4s)\n",
    "- Meilleurs paramètres : {'bootstrap': True, 'max_depth': 20, 'min_samples_leaf': 2, 'min_samples_split': 2, 'n_estimators': 200}\n",
    "\n",
    "Clustering, prix m2 total, sin et scale (18min58.1s)\n",
    "- Meilleurs paramètres : {'bootstrap': True, 'max_depth': 20, 'min_samples_leaf': 1, 'min_samples_split': 2, 'n_estimators': 200}\n"
   ]
  },
  {
   "cell_type": "code",
   "execution_count": 14,
   "metadata": {},
   "outputs": [],
   "source": [
    "#target_columns = ['id', 'prix', 'prix_m2_interieur', 'prix_m2_total']\n",
    "#best_rf_m2_price = find_rf_best_estimator(train_df, target_columns)"
   ]
  },
  {
   "cell_type": "code",
   "execution_count": 15,
   "metadata": {},
   "outputs": [],
   "source": [
    "#prediction = predict_for_total_m2(train_scaled, test_scaled, best_rf_total_m2_price, True, m2_price_col = train_new['prix_m2_total']*train_new['m2_total'], id_col = test_new['id']) "
   ]
  },
  {
   "cell_type": "markdown",
   "metadata": {},
   "source": [
    "# le code du cours de Logic"
   ]
  },
  {
   "cell_type": "code",
   "execution_count": 16,
   "metadata": {},
   "outputs": [
    {
     "ename": "NameError",
     "evalue": "name 'a' is not defined",
     "output_type": "error",
     "traceback": [
      "\u001b[31m---------------------------------------------------------------------------\u001b[39m",
      "\u001b[31mNameError\u001b[39m                                 Traceback (most recent call last)",
      "\u001b[36mCell\u001b[39m\u001b[36m \u001b[39m\u001b[32mIn[16]\u001b[39m\u001b[32m, line 1\u001b[39m\n\u001b[32m----> \u001b[39m\u001b[32m1\u001b[39m \u001b[43ma\u001b[49m \u001b[38;5;66;03m# génération d'erreur pour stopper le kernel et éviter de spammer le kaggle\u001b[39;00m\n",
      "\u001b[31mNameError\u001b[39m: name 'a' is not defined"
     ]
    }
   ],
   "source": [
    "a # génération d'erreur pour stopper le kernel et éviter de spammer le kaggle"
   ]
  },
  {
   "cell_type": "code",
   "execution_count": null,
   "metadata": {},
   "outputs": [],
   "source": [
    "# Train a regression model\n",
    "#model = RandomForestRegressor(n_estimators=100, random_state=42, verbose=1, n_jobs=-1)\n",
    "#model.fit(X_train, y_train)"
   ]
  },
  {
   "cell_type": "code",
   "execution_count": null,
   "metadata": {},
   "outputs": [],
   "source": [
    "grid_search = GridSearchCV(estimator=model, param_grid=param_grid, cv=5, verbose=2, n_jobs=5)\n",
    "grid_search.fit(X_train, y_train)\n",
    "\n",
    "best_model = grid_search.best_estimator_"
   ]
  },
  {
   "cell_type": "code",
   "execution_count": null,
   "metadata": {},
   "outputs": [],
   "source": [
    "# Prepare the test data (we don't have 'Sales_Qty' for the test set)\n",
    "X_test = test_df.drop(columns=['index', 'Sales_Date'])"
   ]
  },
  {
   "cell_type": "code",
   "execution_count": null,
   "metadata": {},
   "outputs": [],
   "source": [
    "# Make predictions\n",
    "model = best_model\n",
    "predictions = model.predict(X_test)"
   ]
  },
  {
   "cell_type": "code",
   "execution_count": null,
   "metadata": {},
   "outputs": [],
   "source": [
    "# Output predictions (You can store them in a new DataFrame and save to CSV)\n",
    "test_df['Predicted_Sales_Qty'] = predictions\n",
    "test_df[['index', 'Predicted_Sales_Qty']].to_csv('predictions.csv', index=False)"
   ]
  },
  {
   "cell_type": "code",
   "execution_count": null,
   "metadata": {},
   "outputs": [],
   "source": [
    "# Optionally, evaluate the model on the training set\n",
    "train_predictions = model.predict(X_train)\n",
    "mse = mean_squared_error(y_train, train_predictions)\n",
    "print(f\"Mean Squared Error on training set: {mse}\")"
   ]
  }
 ],
 "metadata": {
  "kernelspec": {
   "display_name": "Python 3",
   "language": "python",
   "name": "python3"
  },
  "language_info": {
   "codemirror_mode": {
    "name": "ipython",
    "version": 3
   },
   "file_extension": ".py",
   "mimetype": "text/x-python",
   "name": "python",
   "nbconvert_exporter": "python",
   "pygments_lexer": "ipython3",
   "version": "3.13.2"
  }
 },
 "nbformat": 4,
 "nbformat_minor": 2
}
