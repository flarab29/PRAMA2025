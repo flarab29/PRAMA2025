{
 "cells": [
  {
   "cell_type": "code",
   "execution_count": 2,
   "metadata": {},
   "outputs": [],
   "source": [
    "# Classic imports\n",
    "import pandas as pd\n",
    "import numpy as np\n",
    "\n",
    "# Sklearn imports\n",
    "from sklearn.model_selection import train_test_split\n",
    "from sklearn.metrics import mean_squared_error\n",
    "from sklearn.model_selection import cross_val_score\n",
    "# - Models -\n",
    "from sklearn.ensemble import RandomForestRegressor\n",
    "from sklearn.preprocessing import MinMaxScaler\n",
    "\n",
    "# Other imports"
   ]
  },
  {
   "cell_type": "code",
   "execution_count": 4,
   "metadata": {},
   "outputs": [
    {
     "name": "stdout",
     "output_type": "stream",
     "text": [
      "Train shape:  (17147, 32)\n",
      "Prediction file shape:  (4287, 29)\n"
     ]
    }
   ],
   "source": [
    "# Load the datasets\n",
    "train_name = \"train_with_clusters_with_sin_ratios_with_m2_price_with_zipcode_average_price_scaled_standard\" # nom du fichier csv à utiliser pour train\n",
    "pred_name = \"test_with_clusters_with_sin_ratios_with_m2_price_with_zipcode_average_price_scaled_standard\" # nom du fichier csv pour prédire\n",
    "\n",
    "train_df = pd.read_csv('CSV DATA/'+ train_name +'.csv')  # fichier csv à utiliser pour train\n",
    "pred_df = pd.read_csv('CSV DATA/'+ pred_name +'.csv')  # fichier csv pour prédire\n",
    "\n",
    "target_columns = ['prix', 'prix_m2_interieur' , 'prix_m2_total'] # colonnes à prédire\n",
    "\n",
    "#little printy print to see the data\n",
    "print(\"Train shape: \", train_df.shape)\n",
    "print(\"Prediction file shape: \", pred_df.shape)"
   ]
  },
  {
   "cell_type": "code",
   "execution_count": 5,
   "metadata": {},
   "outputs": [],
   "source": [
    "X_train, X_test, y_train, y_test = train_test_split(train_df.drop(columns=target_columns), train_df[target_columns], test_size=0.2, random_state=42)"
   ]
  },
  {
   "cell_type": "code",
   "execution_count": 6,
   "metadata": {},
   "outputs": [
    {
     "data": {
      "text/plain": [
       "((13717, 29), (3430, 29), (13717, 3), (3430, 3))"
      ]
     },
     "execution_count": 6,
     "metadata": {},
     "output_type": "execute_result"
    }
   ],
   "source": [
    "X_train.shape, X_test.shape, y_train.shape, y_test.shape"
   ]
  },
  {
   "cell_type": "code",
   "execution_count": 7,
   "metadata": {},
   "outputs": [],
   "source": [
    "def cross_val_func(model, X, y, cv=5):\n",
    "    # Perform cross-validation\n",
    "    scores = cross_val_score(model, X, y, cv=cv)  # 5-fold cross-validation\n",
    "\n",
    "    # Print the cross-validation scores\n",
    "    print(f\"Cross-validation scores: {scores}\")\n",
    "    print(f\"Mean cross-validation score: {scores.mean()}\")\n",
    "    print(f\"Standard deviation of scores: {scores.std()}\")\n",
    "\n",
    "    return scores"
   ]
  },
  {
   "cell_type": "code",
   "execution_count": 8,
   "metadata": {},
   "outputs": [],
   "source": [
    "def RMSE_calc(x1, x2):\n",
    "    RMSE = np.sqrt(mean_squared_error(x1, x2))\n",
    "    print(\"RMSE: \", RMSE)\n",
    "    return RMSE"
   ]
  },
  {
   "cell_type": "code",
   "execution_count": 9,
   "metadata": {},
   "outputs": [],
   "source": [
    "from sklearn.linear_model import Lasso\n",
    "def lasso_reg(X_train, y_train, X_test, lasso = None):\n",
    "    if lasso :\n",
    "        lasso = lasso\n",
    "    else :\n",
    "        # Initialisation du modèle Lasso\n",
    "        lasso = Lasso(alpha=0.1)\n",
    "\n",
    "    # Entraînement du modèle\n",
    "    lasso.fit(X_train, y_train)\n",
    "\n",
    "    # Prédiction sur l'ensemble de test\n",
    "    y_pred = lasso.predict(X_test)\n",
    "\n",
    "    return y_pred, lasso"
   ]
  },
  {
   "cell_type": "code",
   "execution_count": 10,
   "metadata": {},
   "outputs": [
    {
     "name": "stderr",
     "output_type": "stream",
     "text": [
      "d:\\M2 - Ponts\\PRAMA\\prama-2025\\PRAMA2025\\.venv\\Lib\\site-packages\\sklearn\\linear_model\\_coordinate_descent.py:695: ConvergenceWarning: Objective did not converge. You might want to increase the number of iterations, check the scale of the features or consider increasing regularisation. Duality gap: 5.905e+13, tolerance: 1.894e+11\n",
      "  model = cd_fast.enet_coordinate_descent(\n",
      "d:\\M2 - Ponts\\PRAMA\\prama-2025\\PRAMA2025\\.venv\\Lib\\site-packages\\sklearn\\linear_model\\_coordinate_descent.py:695: ConvergenceWarning: Objective did not converge. You might want to increase the number of iterations, check the scale of the features or consider increasing regularisation. Duality gap: 2.311e+07, tolerance: 1.950e+06\n",
      "  model = cd_fast.enet_coordinate_descent(\n",
      "d:\\M2 - Ponts\\PRAMA\\prama-2025\\PRAMA2025\\.venv\\Lib\\site-packages\\sklearn\\linear_model\\_coordinate_descent.py:695: ConvergenceWarning: Objective did not converge. You might want to increase the number of iterations, check the scale of the features or consider increasing regularisation. Duality gap: 5.181e+06, tolerance: 3.351e+05\n",
      "  model = cd_fast.enet_coordinate_descent(\n",
      "d:\\M2 - Ponts\\PRAMA\\prama-2025\\PRAMA2025\\.venv\\Lib\\site-packages\\sklearn\\linear_model\\_coordinate_descent.py:695: ConvergenceWarning: Objective did not converge. You might want to increase the number of iterations, check the scale of the features or consider increasing regularisation. Duality gap: 4.922e+13, tolerance: 1.585e+11\n",
      "  model = cd_fast.enet_coordinate_descent(\n",
      "d:\\M2 - Ponts\\PRAMA\\prama-2025\\PRAMA2025\\.venv\\Lib\\site-packages\\sklearn\\linear_model\\_coordinate_descent.py:695: ConvergenceWarning: Objective did not converge. You might want to increase the number of iterations, check the scale of the features or consider increasing regularisation. Duality gap: 1.884e+07, tolerance: 1.585e+06\n",
      "  model = cd_fast.enet_coordinate_descent(\n",
      "d:\\M2 - Ponts\\PRAMA\\prama-2025\\PRAMA2025\\.venv\\Lib\\site-packages\\sklearn\\linear_model\\_coordinate_descent.py:695: ConvergenceWarning: Objective did not converge. You might want to increase the number of iterations, check the scale of the features or consider increasing regularisation. Duality gap: 4.152e+06, tolerance: 2.680e+05\n",
      "  model = cd_fast.enet_coordinate_descent(\n",
      "d:\\M2 - Ponts\\PRAMA\\prama-2025\\PRAMA2025\\.venv\\Lib\\site-packages\\sklearn\\linear_model\\_coordinate_descent.py:695: ConvergenceWarning: Objective did not converge. You might want to increase the number of iterations, check the scale of the features or consider increasing regularisation. Duality gap: 4.351e+13, tolerance: 1.430e+11\n",
      "  model = cd_fast.enet_coordinate_descent(\n",
      "d:\\M2 - Ponts\\PRAMA\\prama-2025\\PRAMA2025\\.venv\\Lib\\site-packages\\sklearn\\linear_model\\_coordinate_descent.py:695: ConvergenceWarning: Objective did not converge. You might want to increase the number of iterations, check the scale of the features or consider increasing regularisation. Duality gap: 1.749e+07, tolerance: 1.549e+06\n",
      "  model = cd_fast.enet_coordinate_descent(\n",
      "d:\\M2 - Ponts\\PRAMA\\prama-2025\\PRAMA2025\\.venv\\Lib\\site-packages\\sklearn\\linear_model\\_coordinate_descent.py:695: ConvergenceWarning: Objective did not converge. You might want to increase the number of iterations, check the scale of the features or consider increasing regularisation. Duality gap: 4.033e+06, tolerance: 2.610e+05\n",
      "  model = cd_fast.enet_coordinate_descent(\n",
      "d:\\M2 - Ponts\\PRAMA\\prama-2025\\PRAMA2025\\.venv\\Lib\\site-packages\\sklearn\\linear_model\\_coordinate_descent.py:695: ConvergenceWarning: Objective did not converge. You might want to increase the number of iterations, check the scale of the features or consider increasing regularisation. Duality gap: 5.141e+13, tolerance: 1.534e+11\n",
      "  model = cd_fast.enet_coordinate_descent(\n",
      "d:\\M2 - Ponts\\PRAMA\\prama-2025\\PRAMA2025\\.venv\\Lib\\site-packages\\sklearn\\linear_model\\_coordinate_descent.py:695: ConvergenceWarning: Objective did not converge. You might want to increase the number of iterations, check the scale of the features or consider increasing regularisation. Duality gap: 1.897e+07, tolerance: 1.565e+06\n",
      "  model = cd_fast.enet_coordinate_descent(\n",
      "d:\\M2 - Ponts\\PRAMA\\prama-2025\\PRAMA2025\\.venv\\Lib\\site-packages\\sklearn\\linear_model\\_coordinate_descent.py:695: ConvergenceWarning: Objective did not converge. You might want to increase the number of iterations, check the scale of the features or consider increasing regularisation. Duality gap: 4.206e+06, tolerance: 2.686e+05\n",
      "  model = cd_fast.enet_coordinate_descent(\n",
      "d:\\M2 - Ponts\\PRAMA\\prama-2025\\PRAMA2025\\.venv\\Lib\\site-packages\\sklearn\\linear_model\\_coordinate_descent.py:695: ConvergenceWarning: Objective did not converge. You might want to increase the number of iterations, check the scale of the features or consider increasing regularisation. Duality gap: 4.591e+13, tolerance: 1.529e+11\n",
      "  model = cd_fast.enet_coordinate_descent(\n",
      "d:\\M2 - Ponts\\PRAMA\\prama-2025\\PRAMA2025\\.venv\\Lib\\site-packages\\sklearn\\linear_model\\_coordinate_descent.py:695: ConvergenceWarning: Objective did not converge. You might want to increase the number of iterations, check the scale of the features or consider increasing regularisation. Duality gap: 1.873e+07, tolerance: 1.543e+06\n",
      "  model = cd_fast.enet_coordinate_descent(\n",
      "d:\\M2 - Ponts\\PRAMA\\prama-2025\\PRAMA2025\\.venv\\Lib\\site-packages\\sklearn\\linear_model\\_coordinate_descent.py:695: ConvergenceWarning: Objective did not converge. You might want to increase the number of iterations, check the scale of the features or consider increasing regularisation. Duality gap: 4.223e+06, tolerance: 2.734e+05\n",
      "  model = cd_fast.enet_coordinate_descent(\n",
      "d:\\M2 - Ponts\\PRAMA\\prama-2025\\PRAMA2025\\.venv\\Lib\\site-packages\\sklearn\\linear_model\\_coordinate_descent.py:695: ConvergenceWarning: Objective did not converge. You might want to increase the number of iterations, check the scale of the features or consider increasing regularisation. Duality gap: 4.597e+13, tolerance: 1.499e+11\n",
      "  model = cd_fast.enet_coordinate_descent(\n",
      "d:\\M2 - Ponts\\PRAMA\\prama-2025\\PRAMA2025\\.venv\\Lib\\site-packages\\sklearn\\linear_model\\_coordinate_descent.py:695: ConvergenceWarning: Objective did not converge. You might want to increase the number of iterations, check the scale of the features or consider increasing regularisation. Duality gap: 1.831e+07, tolerance: 1.557e+06\n",
      "  model = cd_fast.enet_coordinate_descent(\n"
     ]
    },
    {
     "name": "stdout",
     "output_type": "stream",
     "text": [
      "Cross-validation scores: [0.73164823 0.70945852 0.7275713  0.72245201 0.70608765]\n",
      "Mean cross-validation score: 0.7194435451055067\n",
      "Standard deviation of scores: 0.010021440790805667\n",
      "RMSE:  95660.65086809943\n"
     ]
    },
    {
     "name": "stderr",
     "output_type": "stream",
     "text": [
      "d:\\M2 - Ponts\\PRAMA\\prama-2025\\PRAMA2025\\.venv\\Lib\\site-packages\\sklearn\\linear_model\\_coordinate_descent.py:695: ConvergenceWarning: Objective did not converge. You might want to increase the number of iterations, check the scale of the features or consider increasing regularisation. Duality gap: 4.090e+06, tolerance: 2.694e+05\n",
      "  model = cd_fast.enet_coordinate_descent(\n"
     ]
    }
   ],
   "source": [
    "lasso = Lasso(alpha=0.1)\n",
    "y_pred_lasso = lasso_reg(X_train, y_train, X_test, lasso)[0]\n",
    "scores_crossval_lasso = cross_val_func(lasso, X_train, y_train, cv = 5)\n",
    "RMSE_lasso = RMSE_calc(y_test, y_pred_lasso)\n"
   ]
  }
 ],
 "metadata": {
  "kernelspec": {
   "display_name": ".venv",
   "language": "python",
   "name": "python3"
  },
  "language_info": {
   "codemirror_mode": {
    "name": "ipython",
    "version": 3
   },
   "file_extension": ".py",
   "mimetype": "text/x-python",
   "name": "python",
   "nbconvert_exporter": "python",
   "pygments_lexer": "ipython3",
   "version": "3.12.0"
  }
 },
 "nbformat": 4,
 "nbformat_minor": 2
}
