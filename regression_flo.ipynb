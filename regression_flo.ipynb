{
 "cells": [
  {
   "cell_type": "code",
   "execution_count": 1,
   "metadata": {},
   "outputs": [],
   "source": [
    "# Classic imports\n",
    "import pandas as pd\n",
    "import numpy as np\n",
    "\n",
    "# Sklearn imports\n",
    "from sklearn.model_selection import train_test_split\n",
    "from sklearn.metrics import mean_squared_error\n",
    "from sklearn.model_selection import cross_val_score\n",
    "# - Models -\n",
    "from sklearn.ensemble import RandomForestRegressor\n",
    "from sklearn.preprocessing import MinMaxScaler\n",
    "\n",
    "# Other imports"
   ]
  },
  {
   "cell_type": "code",
   "execution_count": 2,
   "metadata": {},
   "outputs": [
    {
     "name": "stdout",
     "output_type": "stream",
     "text": [
      "Train shape:  (17147, 32)\n",
      "Prediction file shape:  (4287, 29)\n"
     ]
    }
   ],
   "source": [
    "# Load the datasets\n",
    "train_name = \"train_with_clusters_with_sin_ratios_with_m2_price_with_zipcode_average_price_scaled_standard\" # nom du fichier csv à utiliser pour train\n",
    "pred_name = \"test_with_clusters_with_sin_ratios_with_m2_price_with_zipcode_average_price_scaled_standard\" # nom du fichier csv pour prédire\n",
    "\n",
    "train_df = pd.read_csv('CSV DATA/'+ train_name +'.csv')  # fichier csv à utiliser pour train\n",
    "pred_df = pd.read_csv('CSV DATA/'+ pred_name +'.csv')  # fichier csv pour prédire\n",
    "\n",
    "target_columns = ['prix', 'prix_m2_interieur' , 'prix_m2_total'] # colonnes à prédire\n",
    "\n",
    "#little printy print to see the data\n",
    "print(\"Train shape: \", train_df.shape)\n",
    "print(\"Prediction file shape: \", pred_df.shape)"
   ]
  },
  {
   "cell_type": "code",
   "execution_count": 3,
   "metadata": {},
   "outputs": [],
   "source": [
    "from sklearn.preprocessing import StandardScaler\n",
    "\n",
    "# Définition des colonnes à scaler\n",
    "cols = ['prix', 'prix_m2_interieur', 'prix_m2_total']\n",
    "\n",
    "# Création et ajustement du scaler sur ces colonnes, puis transformation inplace\n",
    "scaler = StandardScaler()\n",
    "train_df[cols] = scaler.fit_transform(train_df[cols])\n",
    "\n"
   ]
  },
  {
   "cell_type": "code",
   "execution_count": 4,
   "metadata": {},
   "outputs": [],
   "source": [
    "from sklearn.preprocessing import StandardScaler\n",
    "def standard_scaler(X_train, X_test, scaler=None):\n",
    "    if scaler:\n",
    "        X_train = scaler.transform(X_train)\n",
    "        X_test = scaler.transform(X_test)\n",
    "    else:\n",
    "        # Standardisation des données\n",
    "        scaler = StandardScaler()\n",
    "        X_train = scaler.fit_transform(X_train)\n",
    "        X_test = scaler.transform(X_test)\n",
    "\n",
    "    return X_train, X_test, scaler"
   ]
  },
  {
   "cell_type": "code",
   "execution_count": 5,
   "metadata": {},
   "outputs": [],
   "source": [
    "train_df.set_index('id', inplace=True)\n",
    "pred_df.set_index('id', inplace=True)"
   ]
  },
  {
   "cell_type": "code",
   "execution_count": 6,
   "metadata": {},
   "outputs": [],
   "source": [
    "X_train, X_test, y_train, y_test = train_test_split(train_df.drop(columns=target_columns), train_df[target_columns], test_size=0.2, random_state=42)"
   ]
  },
  {
   "cell_type": "code",
   "execution_count": 7,
   "metadata": {},
   "outputs": [],
   "source": [
    "descaled_y_test = scaler.inverse_transform(y_test)"
   ]
  },
  {
   "cell_type": "code",
   "execution_count": 8,
   "metadata": {},
   "outputs": [
    {
     "data": {
      "text/plain": [
       "((13717, 28), (3430, 28), (13717, 3), (3430, 3))"
      ]
     },
     "execution_count": 8,
     "metadata": {},
     "output_type": "execute_result"
    }
   ],
   "source": [
    "X_train.shape, X_test.shape, y_train.shape, y_test.shape"
   ]
  },
  {
   "cell_type": "code",
   "execution_count": 9,
   "metadata": {},
   "outputs": [],
   "source": [
    "def cross_val_func(model, X, y, cv=5):\n",
    "    # Perform cross-validation\n",
    "    scores = cross_val_score(model, X, y, cv=cv)  # 5-fold cross-validation\n",
    "\n",
    "    # Print the cross-validation scores\n",
    "    print(f\"Cross-validation scores: {scores}\")\n",
    "    print(f\"Mean cross-validation score: {scores.mean()}\")\n",
    "    print(f\"Standard deviation of scores: {scores.std()}\")\n",
    "\n",
    "    return scores"
   ]
  },
  {
   "cell_type": "code",
   "execution_count": 10,
   "metadata": {},
   "outputs": [],
   "source": [
    "def RMSE_calc(x1, x2):\n",
    "    RMSE = np.sqrt(mean_squared_error(x1, x2))\n",
    "    print(\"RMSE: \", RMSE)\n",
    "    return RMSE"
   ]
  },
  {
   "cell_type": "code",
   "execution_count": 11,
   "metadata": {},
   "outputs": [],
   "source": [
    "from sklearn.linear_model import Lasso\n",
    "def lasso_reg(X_train, y_train, X_test, lasso = None):\n",
    "    if lasso :\n",
    "        lasso = lasso\n",
    "    else :\n",
    "        # Initialisation du modèle Lasso\n",
    "        lasso = Lasso(alpha=0.1)\n",
    "\n",
    "    # Entraînement du modèle\n",
    "    lasso.fit(X_train, y_train)\n",
    "\n",
    "    # Prédiction sur l'ensemble de test\n",
    "    y_pred = lasso.predict(X_test)\n",
    "\n",
    "    return y_pred, lasso"
   ]
  },
  {
   "cell_type": "code",
   "execution_count": 24,
   "metadata": {},
   "outputs": [
    {
     "name": "stdout",
     "output_type": "stream",
     "text": [
      "Cross-validation scores: [0.63381258 0.6088097  0.62985224 0.61608058 0.59812298]\n",
      "Mean cross-validation score: 0.6173356168272852\n",
      "Standard deviation of scores: 0.013202638285559109\n",
      "RMSE:  103376.52742272695\n"
     ]
    }
   ],
   "source": [
    "lasso = Lasso(alpha=0.1)\n",
    "y_pred_lasso = lasso_reg(X_train, y_train, X_test, lasso)[0]\n",
    "scores_crossval_lasso = cross_val_func(lasso, X_train, y_train, cv = 5)\n",
    "y_pred_lasso_descaled = scaler.inverse_transform(y_pred_lasso)\n",
    "RMSE_lasso = RMSE_calc(descaled_y_test, y_pred_lasso_descaled)\n",
    "\n",
    "\n",
    "# Création du DataFrame de prédiction avec 2 colonnes : 'id' et 'prix'\n",
    "# Ici, on récupère l'index (les id) et on l'associe aux prédictions\n",
    "# pred_df = pd.DataFrame({'id': X_test.index, 'prix': predictions})"
   ]
  },
  {
   "cell_type": "code",
   "execution_count": 21,
   "metadata": {},
   "outputs": [],
   "source": [
    "def randomforest_reg(X_train, y_train, X_test):\n",
    "    randomforest = RandomForestRegressor(n_estimators=100, random_state=42)\n",
    "\n",
    "    # Entraînement du modèle\n",
    "    randomforest.fit(X_train, y_train)\n",
    "\n",
    "    # Prédiction sur l'ensemble de test\n",
    "    y_pred =    randomforest.predict(X_test)\n",
    "\n",
    "    return y_pred,  randomforest"
   ]
  },
  {
   "cell_type": "code",
   "execution_count": 25,
   "metadata": {},
   "outputs": [
    {
     "name": "stdout",
     "output_type": "stream",
     "text": [
      "Cross-validation scores: [0.89985821 0.89086989 0.91266927 0.89544703 0.88321807]\n",
      "Mean cross-validation score: 0.8964124928653222\n",
      "Standard deviation of scores: 0.009817343387495802\n",
      "RMSE:  68406.47582002312\n"
     ]
    }
   ],
   "source": [
    "randomforest = RandomForestRegressor(n_estimators=100, random_state=42)\n",
    "y_pred_randomforest = randomforest_reg(X_train, y_train, X_test)[0]\n",
    "scores_crossval_randomforest = cross_val_func(randomforest, X_train, y_train, cv = 5)\n",
    "y_pred_randomforest_descaled = scaler.inverse_transform(y_pred_randomforest)\n",
    "RMSE_randomforest = RMSE_calc(descaled_y_test, y_pred_randomforest_descaled)"
   ]
  },
  {
   "cell_type": "code",
   "execution_count": 32,
   "metadata": {},
   "outputs": [],
   "source": [
    "# Récupérer l'ordre des colonnes utilisées pour l'entraînement (features)\n",
    "feature_columns = train_df.drop(columns=target_columns).columns\n",
    "\n",
    "# Entraînement du modèle sur les features et les cibles\n",
    "randomforest.fit(train_df[feature_columns], train_df[target_columns])\n",
    "\n",
    "# Réordonner le DataFrame de prédiction pour qu'il contienne exactement les mêmes colonnes que celles utilisées pour l'entraînement\n",
    "pred_df = pred_df.reindex(columns=feature_columns)\n",
    "\n",
    "# Prédiction\n",
    "final_prediction = randomforest.predict(pred_df)\n",
    "\n",
    "# Appliquer l'inverse du scaling pour revenir aux valeurs d'origine\n",
    "final_prediction_descaled = scaler.inverse_transform(final_prediction)\n",
    "\n",
    "# Création du DataFrame final de prédiction avec 2 colonnes : 'id' et 'prix'\n",
    "pred_df_final = pd.DataFrame({'id': pred_df.index, 'prix': final_prediction_descaled[:, 0]})\n",
    "pred_df_final.to_csv('predictions/randomforest_prediction_flo.csv', index=False)\n"
   ]
  }
 ],
 "metadata": {
  "kernelspec": {
   "display_name": ".venv",
   "language": "python",
   "name": "python3"
  },
  "language_info": {
   "codemirror_mode": {
    "name": "ipython",
    "version": 3
   },
   "file_extension": ".py",
   "mimetype": "text/x-python",
   "name": "python",
   "nbconvert_exporter": "python",
   "pygments_lexer": "ipython3",
   "version": "3.12.0"
  }
 },
 "nbformat": 4,
 "nbformat_minor": 2
}
