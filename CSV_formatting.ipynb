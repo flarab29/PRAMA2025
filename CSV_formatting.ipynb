{
 "cells": [
  {
   "cell_type": "markdown",
   "metadata": {},
   "source": [
    "# Import libs and load dfs"
   ]
  },
  {
   "cell_type": "code",
   "execution_count": 1,
   "metadata": {},
   "outputs": [],
   "source": [
    "# Classic imports\n",
    "import pandas as pd\n",
    "import numpy as np\n",
    "\n",
    "# Sklearn imports\n",
    "from sklearn.model_selection import train_test_split\n",
    "from sklearn.ensemble import RandomForestRegressor\n",
    "from sklearn.metrics import mean_squared_error\n",
    "# - Preprocessing\n",
    "from sklearn.preprocessing import MinMaxScaler\n",
    "from sklearn.preprocessing import StandardScaler\n",
    "\n",
    "# Other imports\n",
    "import tqdm"
   ]
  },
  {
   "cell_type": "markdown",
   "metadata": {},
   "source": [
    "# Transforming the data"
   ]
  },
  {
   "cell_type": "markdown",
   "metadata": {},
   "source": [
    "### Attention nouvelle règle : \n",
    "\n",
    "- Damien is to come to the next classes with no underwear and a kilt.\n",
    "- We'll add a value between 0 and 1 showcasing the evolution of the year : 0 for the beginnin of the year, 1 for the end of the year. Then, we'll multiply this by pi and use the sine of this value.\n",
    "- This way we'll have values closer to 1 for 'colder' days and 0 for 'hotter' days. "
   ]
  },
  {
   "cell_type": "markdown",
   "metadata": {},
   "source": [
    "## Sinus of all date data"
   ]
  },
  {
   "cell_type": "code",
   "execution_count": null,
   "metadata": {},
   "outputs": [],
   "source": [
    "def sin_ratios_for_date(modify_df, name):\n",
    "    # Preprocess the datasets\n",
    "    # Convert the Sales_Date to datetime format\n",
    "    modify_df['date'] = pd.to_datetime(modify_df['date'])\n",
    "\n",
    "    # Extract useful date features (e.g., year, month, day)\n",
    "    modify_df['Year'] = modify_df['date'].dt.year\n",
    "    modify_df['Month'] = modify_df['date'].dt.month\n",
    "    modify_df['Day'] = modify_df['date'].dt.day\n",
    "    modify_df['sin2_month'] = modify_df['Month'].map(lambda x: ((np.sin(float(x)/12)**2)))  # value will possibly be negative if standardscaler has been applied after calculus of sinus\n",
    "\n",
    "    modify_df['day_of_year'] = modify_df['date'].dt.dayofyear\n",
    "    # Calcul du nombre de jours dans l'année (365 ou 366)\n",
    "    modify_df['days_in_year'] = np.where(modify_df['date'].dt.is_leap_year, 366, 365)\n",
    "    # Calcul El Famoso ratio (float entre 0 et 1)\n",
    "    modify_df['day_ratio'] = modify_df['day_of_year'] / modify_df['days_in_year']\n",
    "    # Calculer le sinus de pi * ratio\n",
    "    modify_df['sin_dayofyear'] = np.sin(np.pi * modify_df['day_ratio'])\n",
    "    modify_df.drop(columns=['day_of_year', 'days_in_year', 'day_ratio'], inplace=True)\n",
    "    modify_df = modify_df.drop(columns=['date', 'Year', 'Month', 'Day'])\n",
    "\n",
    "    new_name = name + \"_with_sin_ratios\"\n",
    "\n",
    "    return modify_df, new_name"
   ]
  },
  {
   "cell_type": "markdown",
   "metadata": {},
   "source": [
    "## Transform df to have price/square meters"
   ]
  },
  {
   "cell_type": "code",
   "execution_count": 3,
   "metadata": {},
   "outputs": [],
   "source": [
    "def create_new_df_with_m2(to_modify_df, name, include_price = False):\n",
    "    # create a new data frame with everything plus a column corresponding to 1 if \"m2_jardin\" is >0, 0 otherwise\n",
    "    # we will also do the same for m2_etage and m2_soussol\n",
    "    modify_df = to_modify_df.copy()\n",
    "    modify_df['jardin'] = modify_df['m2_jardin'].map(lambda x: 1 if x > 0 else 0)\n",
    "    modify_df['etage'] = modify_df['m2_etage'].map(lambda x: 1 if x > 0 else 0)\n",
    "    modify_df['soussol'] = modify_df['m2_soussol'].map(lambda x: 1 if x > 0 else 0)\n",
    "\n",
    "    # now add three new columns per df, one for interior m2 and one for exterior m2 and one for total m2\n",
    "    # for interior we already have m2_interieur which is the sum of etage and soussol\n",
    "    modify_df['m2_outside'] = modify_df['m2_jardin']\n",
    "    modify_df['m2_total'] = modify_df['m2_interieur'] + modify_df['m2_outside']\n",
    "\n",
    "    if include_price:\n",
    "        # now we add two columns per df, one for prix per m2 interior and one for prix per m2 total\n",
    "        modify_df['prix_m2_interieur'] = modify_df['prix'] / modify_df['m2_interieur']\n",
    "        modify_df['prix_m2_total'] = modify_df['prix'] / modify_df['m2_total']\n",
    "\n",
    "    new_name = name + \"_with_m2_price\"\n",
    "\n",
    "    return modify_df, new_name"
   ]
  },
  {
   "cell_type": "markdown",
   "metadata": {},
   "source": [
    "## Scaling the data"
   ]
  },
  {
   "cell_type": "code",
   "execution_count": 4,
   "metadata": {},
   "outputs": [],
   "source": [
    "def scaling_data(df, name, scaler = None, scaler_type = None):\n",
    "    if scaler :\n",
    "        scaler = scaler\n",
    "    else :\n",
    "        if scaler_type == 'minmax':\n",
    "            # Initialize the MinMaxScaler\n",
    "            scaler = MinMaxScaler()\n",
    "        elif scaler_type == 'standard':\n",
    "            # Initialize the StandardScaler\n",
    "            scaler = StandardScaler()\n",
    "        else:\n",
    "            scaler = MinMaxScaler() # Default scaler will be minmax\n",
    "            #raise ValueError(\"Invalid scaler type. Please choose between 'minmax' and 'standard'.\n",
    "\n",
    "    # Scale the data, but not the ID column\n",
    "    columns_to_scale = df.columns.difference(['id', 'lat', 'long', 'sin_month', 'sin_dayofyear'])\n",
    "    to_scale_df1 = df[columns_to_scale].copy() # to not modify the original one\n",
    "\n",
    "    scaled_df1 = df.copy()\n",
    "    scaled_df1[columns_to_scale] = scaler.fit_transform(to_scale_df1)\n",
    "\n",
    "    if scaler_type:\n",
    "        scaled_name = name + \"_scaled\" + \"_\" + scaler_type\n",
    "    else:\n",
    "        scaled_name = name + \"_scaled\"\n",
    "\n",
    "    return scaler, scaled_df1, scaled_name"
   ]
  },
  {
   "cell_type": "markdown",
   "metadata": {},
   "source": [
    "## Export the csv"
   ]
  },
  {
   "cell_type": "code",
   "execution_count": 5,
   "metadata": {},
   "outputs": [],
   "source": [
    "def exporting_df(df, name):\n",
    "    df.to_csv('CSV data/'+ name + '.csv', index=False)"
   ]
  },
  {
   "cell_type": "markdown",
   "metadata": {},
   "source": [
    "\n",
    "# Call the transfos"
   ]
  },
  {
   "cell_type": "code",
   "execution_count": 6,
   "metadata": {},
   "outputs": [
    {
     "name": "stdout",
     "output_type": "stream",
     "text": [
      "Train shape:  (17147, 24)\n",
      "Test shape:  (4287, 23)\n"
     ]
    }
   ],
   "source": [
    "# Load the datasets\n",
    "origin_train_name = \"train_with_clusters\"\n",
    "origin_test_name = \"test_with_clusters\"\n",
    "\n",
    "train_df = pd.read_csv('CSV DATA/' + origin_train_name + '.csv')  # fichier csv VIERGE d'origine du train, ou clusterisé\n",
    "test_df = pd.read_csv('CSV DATA/' + origin_test_name + '.csv')  # fichier csv VIERGE d'origine du test, ou clusterisé\n",
    "\n",
    "#little printy print \n",
    "print(\"Train shape: \", train_df.shape)\n",
    "print(\"Test shape: \", test_df.shape)"
   ]
  },
  {
   "cell_type": "code",
   "execution_count": 7,
   "metadata": {},
   "outputs": [],
   "source": [
    "# dates to sinus function\n",
    "train_sin, train_sin_name = sin_ratios_for_date(train_df, origin_train_name)\n",
    "test_sin, test_sin_name = sin_ratios_for_date(test_df, origin_test_name)\n",
    "\n",
    "# find price per square meter\n",
    "train_sin_m2, train_sin_m2_name = create_new_df_with_m2(train_sin, train_sin_name, include_price=True)\n",
    "test_sin_m2, test_sin_m2_name = create_new_df_with_m2(test_sin, test_sin_name, include_price=False)\n",
    "\n",
    "# Scale the data\n",
    "scaler1, train_sin_m2_scaled, train_sin_m2_scaled_name = scaling_data(train_sin_m2, train_sin_m2_name, scaler_type='standard')\n",
    "scaler1, train_sin_scaled, train_sin_scaled_name = scaling_data(train_sin, train_sin_name, scaler=scaler1, scaler_type='standard')\n",
    "scaler1, test_sin_m2_scaled, test_sin_m2_scaled_name = scaling_data(test_sin_m2, test_sin_m2_name, scaler=scaler1, scaler_type='standard')\n",
    "scaler1, test_sin_scaled, test_sin_scaled_name = scaling_data(test_sin, test_sin_name, scaler=scaler1, scaler_type='standard')"
   ]
  },
  {
   "cell_type": "code",
   "execution_count": 8,
   "metadata": {},
   "outputs": [
    {
     "data": {
      "text/html": [
       "<div>\n",
       "<style scoped>\n",
       "    .dataframe tbody tr th:only-of-type {\n",
       "        vertical-align: middle;\n",
       "    }\n",
       "\n",
       "    .dataframe tbody tr th {\n",
       "        vertical-align: top;\n",
       "    }\n",
       "\n",
       "    .dataframe thead th {\n",
       "        text-align: right;\n",
       "    }\n",
       "</style>\n",
       "<table border=\"1\" class=\"dataframe\">\n",
       "  <thead>\n",
       "    <tr style=\"text-align: right;\">\n",
       "      <th></th>\n",
       "      <th>id</th>\n",
       "      <th>prix</th>\n",
       "      <th>nb_chambres</th>\n",
       "      <th>nb_sdb</th>\n",
       "      <th>m2_interieur</th>\n",
       "      <th>m2_jardin</th>\n",
       "      <th>m2_etage</th>\n",
       "      <th>m2_soussol</th>\n",
       "      <th>nb_etages</th>\n",
       "      <th>vue_mer</th>\n",
       "      <th>...</th>\n",
       "      <th>cluster_tres_eleve</th>\n",
       "      <th>sin2_month</th>\n",
       "      <th>sin_dayofyear</th>\n",
       "      <th>jardin</th>\n",
       "      <th>etage</th>\n",
       "      <th>soussol</th>\n",
       "      <th>m2_outside</th>\n",
       "      <th>m2_total</th>\n",
       "      <th>prix_m2_interieur</th>\n",
       "      <th>prix_m2_total</th>\n",
       "    </tr>\n",
       "  </thead>\n",
       "  <tbody>\n",
       "    <tr>\n",
       "      <th>0</th>\n",
       "      <td>4443800785</td>\n",
       "      <td>-0.167369</td>\n",
       "      <td>-1.471744</td>\n",
       "      <td>-1.453014</td>\n",
       "      <td>-0.505115</td>\n",
       "      <td>-0.271088</td>\n",
       "      <td>-1.050087</td>\n",
       "      <td>0.920725</td>\n",
       "      <td>-0.918153</td>\n",
       "      <td>-0.090074</td>\n",
       "      <td>...</td>\n",
       "      <td>-0.500055</td>\n",
       "      <td>1.538983</td>\n",
       "      <td>0.337523</td>\n",
       "      <td>0.0</td>\n",
       "      <td>0.0</td>\n",
       "      <td>1.248548</td>\n",
       "      <td>-0.271088</td>\n",
       "      <td>-0.281097</td>\n",
       "      <td>0.290452</td>\n",
       "      <td>0.600286</td>\n",
       "    </tr>\n",
       "    <tr>\n",
       "      <th>1</th>\n",
       "      <td>2722059013</td>\n",
       "      <td>0.018316</td>\n",
       "      <td>-1.471744</td>\n",
       "      <td>-1.453014</td>\n",
       "      <td>-0.885037</td>\n",
       "      <td>0.679263</td>\n",
       "      <td>-0.629499</td>\n",
       "      <td>-0.656952</td>\n",
       "      <td>-0.918153</td>\n",
       "      <td>-0.090074</td>\n",
       "      <td>...</td>\n",
       "      <td>-0.500055</td>\n",
       "      <td>-1.270457</td>\n",
       "      <td>0.296713</td>\n",
       "      <td>0.0</td>\n",
       "      <td>0.0</td>\n",
       "      <td>-0.800930</td>\n",
       "      <td>0.679263</td>\n",
       "      <td>0.657080</td>\n",
       "      <td>1.520718</td>\n",
       "      <td>-1.039685</td>\n",
       "    </tr>\n",
       "    <tr>\n",
       "      <th>2</th>\n",
       "      <td>8856004730</td>\n",
       "      <td>-0.923697</td>\n",
       "      <td>-1.471744</td>\n",
       "      <td>0.811236</td>\n",
       "      <td>-0.537680</td>\n",
       "      <td>0.136954</td>\n",
       "      <td>-0.244962</td>\n",
       "      <td>-0.656952</td>\n",
       "      <td>0.004358</td>\n",
       "      <td>-0.090074</td>\n",
       "      <td>...</td>\n",
       "      <td>-0.500055</td>\n",
       "      <td>0.768639</td>\n",
       "      <td>0.785650</td>\n",
       "      <td>0.0</td>\n",
       "      <td>0.0</td>\n",
       "      <td>-0.800930</td>\n",
       "      <td>0.136954</td>\n",
       "      <td>0.124587</td>\n",
       "      <td>-1.256075</td>\n",
       "      <td>-1.113512</td>\n",
       "    </tr>\n",
       "    <tr>\n",
       "      <th>3</th>\n",
       "      <td>2473003210</td>\n",
       "      <td>-0.480051</td>\n",
       "      <td>-0.398785</td>\n",
       "      <td>-0.482621</td>\n",
       "      <td>0.254730</td>\n",
       "      <td>-0.175406</td>\n",
       "      <td>-0.208911</td>\n",
       "      <td>0.920725</td>\n",
       "      <td>-0.918153</td>\n",
       "      <td>-0.090074</td>\n",
       "      <td>...</td>\n",
       "      <td>-0.500055</td>\n",
       "      <td>-1.113308</td>\n",
       "      <td>0.580800</td>\n",
       "      <td>0.0</td>\n",
       "      <td>0.0</td>\n",
       "      <td>1.248548</td>\n",
       "      <td>-0.175406</td>\n",
       "      <td>-0.169103</td>\n",
       "      <td>-0.971542</td>\n",
       "      <td>-0.526783</td>\n",
       "    </tr>\n",
       "    <tr>\n",
       "      <th>4</th>\n",
       "      <td>6743700335</td>\n",
       "      <td>-0.196971</td>\n",
       "      <td>-0.398785</td>\n",
       "      <td>-0.159157</td>\n",
       "      <td>-0.309726</td>\n",
       "      <td>-0.060588</td>\n",
       "      <td>0.007391</td>\n",
       "      <td>-0.656952</td>\n",
       "      <td>-0.918153</td>\n",
       "      <td>-0.090074</td>\n",
       "      <td>...</td>\n",
       "      <td>-0.500055</td>\n",
       "      <td>-0.326610</td>\n",
       "      <td>0.972118</td>\n",
       "      <td>0.0</td>\n",
       "      <td>0.0</td>\n",
       "      <td>-0.800930</td>\n",
       "      <td>-0.060588</td>\n",
       "      <td>-0.067151</td>\n",
       "      <td>-0.033046</td>\n",
       "      <td>-0.598759</td>\n",
       "    </tr>\n",
       "  </tbody>\n",
       "</table>\n",
       "<p>5 rows × 32 columns</p>\n",
       "</div>"
      ],
      "text/plain": [
       "           id      prix  nb_chambres    nb_sdb  m2_interieur  m2_jardin  \\\n",
       "0  4443800785 -0.167369    -1.471744 -1.453014     -0.505115  -0.271088   \n",
       "1  2722059013  0.018316    -1.471744 -1.453014     -0.885037   0.679263   \n",
       "2  8856004730 -0.923697    -1.471744  0.811236     -0.537680   0.136954   \n",
       "3  2473003210 -0.480051    -0.398785 -0.482621      0.254730  -0.175406   \n",
       "4  6743700335 -0.196971    -0.398785 -0.159157     -0.309726  -0.060588   \n",
       "\n",
       "   m2_etage  m2_soussol  nb_etages   vue_mer  ...  cluster_tres_eleve  \\\n",
       "0 -1.050087    0.920725  -0.918153 -0.090074  ...           -0.500055   \n",
       "1 -0.629499   -0.656952  -0.918153 -0.090074  ...           -0.500055   \n",
       "2 -0.244962   -0.656952   0.004358 -0.090074  ...           -0.500055   \n",
       "3 -0.208911    0.920725  -0.918153 -0.090074  ...           -0.500055   \n",
       "4  0.007391   -0.656952  -0.918153 -0.090074  ...           -0.500055   \n",
       "\n",
       "   sin2_month  sin_dayofyear  jardin  etage   soussol  m2_outside  m2_total  \\\n",
       "0    1.538983       0.337523     0.0    0.0  1.248548   -0.271088 -0.281097   \n",
       "1   -1.270457       0.296713     0.0    0.0 -0.800930    0.679263  0.657080   \n",
       "2    0.768639       0.785650     0.0    0.0 -0.800930    0.136954  0.124587   \n",
       "3   -1.113308       0.580800     0.0    0.0  1.248548   -0.175406 -0.169103   \n",
       "4   -0.326610       0.972118     0.0    0.0 -0.800930   -0.060588 -0.067151   \n",
       "\n",
       "   prix_m2_interieur  prix_m2_total  \n",
       "0           0.290452       0.600286  \n",
       "1           1.520718      -1.039685  \n",
       "2          -1.256075      -1.113512  \n",
       "3          -0.971542      -0.526783  \n",
       "4          -0.033046      -0.598759  \n",
       "\n",
       "[5 rows x 32 columns]"
      ]
     },
     "execution_count": 8,
     "metadata": {},
     "output_type": "execute_result"
    }
   ],
   "source": [
    "train_sin_m2_scaled.head()"
   ]
  },
  {
   "cell_type": "code",
   "execution_count": 9,
   "metadata": {},
   "outputs": [],
   "source": [
    "exporting_df(train_sin_m2_scaled, train_sin_m2_scaled_name)\n",
    "exporting_df(test_sin_m2_scaled, test_sin_m2_scaled_name)"
   ]
  },
  {
   "cell_type": "code",
   "execution_count": 10,
   "metadata": {},
   "outputs": [],
   "source": [
    "# X_train, y_train, X_test, y_test = train_test_split(train_new.drop(columns=['prix']), train_new['prix'], test_size=0.2, random_state=42)"
   ]
  },
  {
   "cell_type": "code",
   "execution_count": 11,
   "metadata": {},
   "outputs": [],
   "source": [
    "# clusters = ['cluster_tres_bas', 'cluster_bas', 'cluster_moyen', 'cluster_eleve', 'cluster_tres_eleve']\n",
    "# train_new.drop(columns=clusters, inplace=True)"
   ]
  }
 ],
 "metadata": {
  "kernelspec": {
   "display_name": "base",
   "language": "python",
   "name": "python3"
  },
  "language_info": {
   "codemirror_mode": {
    "name": "ipython",
    "version": 3
   },
   "file_extension": ".py",
   "mimetype": "text/x-python",
   "name": "python",
   "nbconvert_exporter": "python",
   "pygments_lexer": "ipython3",
   "version": "3.11.3"
  }
 },
 "nbformat": 4,
 "nbformat_minor": 2
}
