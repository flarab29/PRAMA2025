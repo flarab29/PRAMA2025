{
 "cells": [
  {
   "cell_type": "markdown",
   "metadata": {},
   "source": [
    "# Import libs and load dfs"
   ]
  },
  {
   "cell_type": "code",
   "execution_count": 1,
   "metadata": {},
   "outputs": [],
   "source": [
    "# Classic imports\n",
    "import pandas as pd\n",
    "import numpy as np\n",
    "\n",
    "# Sklearn imports\n",
    "from sklearn.model_selection import train_test_split\n",
    "from sklearn.ensemble import RandomForestRegressor\n",
    "from sklearn.metrics import mean_squared_error\n",
    "from sklearn.preprocessing import MinMaxScaler\n",
    "\n",
    "# Other imports\n",
    "import tqdm"
   ]
  },
  {
   "cell_type": "markdown",
   "metadata": {},
   "source": [
    "# Transforming the data"
   ]
  },
  {
   "cell_type": "markdown",
   "metadata": {},
   "source": [
    "### Attention nouvelle règle : \n",
    "\n",
    "- Damien is to come to the next classes with no underwear and a kilt.\n",
    "- We'll add a value between 0 and 1 showcasing the evolution of the year : 0 for the beginnin of the year, 1 for the end of the year. Then, we'll multiply this by pi and use the sine of this value.\n",
    "- This way we'll have values closer to 1 for 'colder' days and 0 for 'hotter' days. "
   ]
  },
  {
   "cell_type": "markdown",
   "metadata": {},
   "source": [
    "## Sinus of all date data"
   ]
  },
  {
   "cell_type": "code",
   "execution_count": 2,
   "metadata": {},
   "outputs": [],
   "source": [
    "def sin_ratios_for_date(modify_df, name):\n",
    "    # Preprocess the datasets\n",
    "    # Convert the Sales_Date to datetime format\n",
    "    modify_df['date'] = pd.to_datetime(modify_df['date'])\n",
    "\n",
    "    # Extract useful date features (e.g., year, month, day)\n",
    "    modify_df['Year'] = modify_df['date'].dt.year\n",
    "    modify_df['Month'] = modify_df['date'].dt.month\n",
    "    modify_df['Day'] = modify_df['date'].dt.day\n",
    "    modify_df['sin_month'] = modify_df['Month'].map(lambda x: np.sin(float(x)/12))\n",
    "\n",
    "    modify_df['day_of_year'] = modify_df['date'].dt.dayofyear\n",
    "    # Calcul du nombre de jours dans l'année (365 ou 366)\n",
    "    modify_df['days_in_year'] = np.where(modify_df['date'].dt.is_leap_year, 366, 365)\n",
    "    # Calcul El Famoso ratio (float entre 0 et 1)\n",
    "    modify_df['day_ratio'] = modify_df['day_of_year'] / modify_df['days_in_year']\n",
    "    # Calculer le sinus de pi * ratio\n",
    "    modify_df['sin_dayofyear'] = np.sin(np.pi * modify_df['day_ratio'])\n",
    "    modify_df.drop(columns=['day_of_year', 'days_in_year', 'day_ratio'], inplace=True)\n",
    "    modify_df = modify_df.drop(columns=['date', 'Year', 'Month', 'Day'])\n",
    "\n",
    "    new_name = name + \"_with_sin_ratios\"\n",
    "\n",
    "    return modify_df, new_name"
   ]
  },
  {
   "cell_type": "markdown",
   "metadata": {},
   "source": [
    "## Transform df to have price/square meters"
   ]
  },
  {
   "cell_type": "code",
   "execution_count": 3,
   "metadata": {},
   "outputs": [],
   "source": [
    "def create_new_df_with_m2(to_modify_df, name, include_price = False):\n",
    "    # create a new data frame with everything plus a column corresponding to 1 if \"m2_jardin\" is >0, 0 otherwise\n",
    "    # we will also do the same for m2_etage and m2_soussol\n",
    "    modify_df = to_modify_df.copy()\n",
    "    modify_df['jardin'] = modify_df['m2_jardin'].map(lambda x: 1 if x > 0 else 0)\n",
    "    modify_df['etage'] = modify_df['m2_etage'].map(lambda x: 1 if x > 0 else 0)\n",
    "    modify_df['soussol'] = modify_df['m2_soussol'].map(lambda x: 1 if x > 0 else 0)\n",
    "\n",
    "    # now add three new columns per df, one for interior m2 and one for exterior m2 and one for total m2\n",
    "    # for interior we already have m2_interieur which is the sum of etage and soussol\n",
    "    modify_df['m2_outside'] = modify_df['m2_jardin']\n",
    "    modify_df['m2_total'] = modify_df['m2_interieur'] + modify_df['m2_outside']\n",
    "\n",
    "    if include_price:\n",
    "        # now we add two columns per df, one for prix per m2 interior and one for prix per m2 total\n",
    "        modify_df['prix_m2_interieur'] = modify_df['prix'] / modify_df['m2_interieur']\n",
    "        modify_df['prix_m2_total'] = modify_df['prix'] / modify_df['m2_total']\n",
    "\n",
    "    new_name = name + \"_with_m2_price\"\n",
    "\n",
    "    return modify_df, new_name"
   ]
  },
  {
   "cell_type": "markdown",
   "metadata": {},
   "source": [
    "## Scaling the data"
   ]
  },
  {
   "cell_type": "code",
   "execution_count": 4,
   "metadata": {},
   "outputs": [],
   "source": [
    "def scaling_data(df, name, scaler = None):\n",
    "    if scaler :\n",
    "        scaler = scaler\n",
    "    else :\n",
    "        # Initialize the MinMaxScaler\n",
    "        scaler = MinMaxScaler()\n",
    "\n",
    "    # Scale the data, but not the ID column\n",
    "    columns_to_scale = df.columns.difference(['id', 'lat', 'long', 'sin_month', 'sin_dayofyear'])\n",
    "    to_scale_df1 = df[columns_to_scale].copy() # to not modify the original one\n",
    "\n",
    "    scaled_df1 = df.copy()\n",
    "    scaled_df1[columns_to_scale] = scaler.fit_transform(to_scale_df1)\n",
    "\n",
    "    scaled_name = name + \"_scaled\"\n",
    "\n",
    "    return scaler, scaled_df1, scaled_name"
   ]
  },
  {
   "cell_type": "markdown",
   "metadata": {},
   "source": [
    "## Export the csv"
   ]
  },
  {
   "cell_type": "code",
   "execution_count": 5,
   "metadata": {},
   "outputs": [],
   "source": [
    "def exporting_df(df, name):\n",
    "    df.to_csv('CSV data/'+ name + '.csv', index=False)"
   ]
  },
  {
   "cell_type": "markdown",
   "metadata": {},
   "source": [
    "\n",
    "# Call the transfos"
   ]
  },
  {
   "cell_type": "code",
   "execution_count": 6,
   "metadata": {},
   "outputs": [
    {
     "name": "stdout",
     "output_type": "stream",
     "text": [
      "Train shape:  (17147, 24)\n",
      "Test shape:  (4287, 23)\n"
     ]
    }
   ],
   "source": [
    "# Load the datasets\n",
    "origin_train_name = \"train_with_clusters\"\n",
    "origin_test_name = \"test_with_clusters\"\n",
    "\n",
    "train_df = pd.read_csv('CSV DATA/' + origin_train_name + '.csv')  # fichier csv VIERGE d'origine du train, ou clusterisé\n",
    "test_df = pd.read_csv('CSV DATA/' + origin_test_name + '.csv')  # fichier csv VIERGE d'origine du test, ou clusterisé\n",
    "\n",
    "#little printy print \n",
    "print(\"Train shape: \", train_df.shape)\n",
    "print(\"Test shape: \", test_df.shape)"
   ]
  },
  {
   "cell_type": "code",
   "execution_count": 7,
   "metadata": {},
   "outputs": [],
   "source": [
    "# dates to sinus function\n",
    "train_sin, train_sin_name = sin_ratios_for_date(train_df, origin_train_name)\n",
    "test_sin, test_sin_name = sin_ratios_for_date(test_df, origin_test_name)\n",
    "\n",
    "# find price per square meter\n",
    "train_sin_m2, train_sin_m2_name = create_new_df_with_m2(train_sin, train_sin_name, include_price=True)\n",
    "test_sin_m2, test_sin_m2_name = create_new_df_with_m2(test_sin, test_sin_name, include_price=False)\n",
    "\n",
    "# Scale the data\n",
    "scaler1, train_sin_m2_scaled, train_sin_m2_scaled_name = scaling_data(train_sin_m2, train_sin_m2_name)\n",
    "scaler1, train_sin_scaled, train_sin_scaled_name = scaling_data(train_sin, train_sin_name, scaler=scaler1)\n",
    "scaler1, test_sin_m2_scaled, test_sin_m2_scaled_name = scaling_data(test_sin_m2, test_sin_m2_name, scaler=scaler1)\n",
    "scaler1, test_sin_scaled, test_sin_scaled_name = scaling_data(test_sin, test_sin_name, scaler=scaler1)"
   ]
  },
  {
   "cell_type": "code",
   "execution_count": 8,
   "metadata": {},
   "outputs": [
    {
     "data": {
      "text/html": [
       "<div>\n",
       "<style scoped>\n",
       "    .dataframe tbody tr th:only-of-type {\n",
       "        vertical-align: middle;\n",
       "    }\n",
       "\n",
       "    .dataframe tbody tr th {\n",
       "        vertical-align: top;\n",
       "    }\n",
       "\n",
       "    .dataframe thead th {\n",
       "        text-align: right;\n",
       "    }\n",
       "</style>\n",
       "<table border=\"1\" class=\"dataframe\">\n",
       "  <thead>\n",
       "    <tr style=\"text-align: right;\">\n",
       "      <th></th>\n",
       "      <th>id</th>\n",
       "      <th>prix</th>\n",
       "      <th>nb_chambres</th>\n",
       "      <th>nb_sdb</th>\n",
       "      <th>m2_interieur</th>\n",
       "      <th>m2_jardin</th>\n",
       "      <th>m2_etage</th>\n",
       "      <th>m2_soussol</th>\n",
       "      <th>nb_etages</th>\n",
       "      <th>vue_mer</th>\n",
       "      <th>...</th>\n",
       "      <th>cluster_tres_eleve</th>\n",
       "      <th>sin_month</th>\n",
       "      <th>sin_dayofyear</th>\n",
       "      <th>jardin</th>\n",
       "      <th>etage</th>\n",
       "      <th>soussol</th>\n",
       "      <th>m2_outside</th>\n",
       "      <th>m2_total</th>\n",
       "      <th>prix_m2_interieur</th>\n",
       "      <th>prix_m2_total</th>\n",
       "    </tr>\n",
       "  </thead>\n",
       "  <tbody>\n",
       "    <tr>\n",
       "      <th>0</th>\n",
       "      <td>4443800785</td>\n",
       "      <td>0.058104</td>\n",
       "      <td>0.060606</td>\n",
       "      <td>0.129032</td>\n",
       "      <td>0.136410</td>\n",
       "      <td>0.002035</td>\n",
       "      <td>0.073512</td>\n",
       "      <td>0.145228</td>\n",
       "      <td>0.0</td>\n",
       "      <td>0.0</td>\n",
       "      <td>...</td>\n",
       "      <td>0.0</td>\n",
       "      <td>0.793578</td>\n",
       "      <td>0.337523</td>\n",
       "      <td>0.0</td>\n",
       "      <td>0.0</td>\n",
       "      <td>1.0</td>\n",
       "      <td>0.002035</td>\n",
       "      <td>0.002469</td>\n",
       "      <td>0.293826</td>\n",
       "      <td>0.217792</td>\n",
       "    </tr>\n",
       "    <tr>\n",
       "      <th>1</th>\n",
       "      <td>2722059013</td>\n",
       "      <td>0.067979</td>\n",
       "      <td>0.060606</td>\n",
       "      <td>0.129032</td>\n",
       "      <td>0.100513</td>\n",
       "      <td>0.026072</td>\n",
       "      <td>0.114352</td>\n",
       "      <td>0.000000</td>\n",
       "      <td>0.0</td>\n",
       "      <td>0.0</td>\n",
       "      <td>...</td>\n",
       "      <td>0.0</td>\n",
       "      <td>0.165896</td>\n",
       "      <td>0.296713</td>\n",
       "      <td>0.0</td>\n",
       "      <td>0.0</td>\n",
       "      <td>0.0</td>\n",
       "      <td>0.026072</td>\n",
       "      <td>0.026288</td>\n",
       "      <td>0.484948</td>\n",
       "      <td>0.030203</td>\n",
       "    </tr>\n",
       "    <tr>\n",
       "      <th>2</th>\n",
       "      <td>8856004730</td>\n",
       "      <td>0.017882</td>\n",
       "      <td>0.060606</td>\n",
       "      <td>0.354839</td>\n",
       "      <td>0.133333</td>\n",
       "      <td>0.012356</td>\n",
       "      <td>0.151692</td>\n",
       "      <td>0.000000</td>\n",
       "      <td>0.2</td>\n",
       "      <td>0.0</td>\n",
       "      <td>...</td>\n",
       "      <td>0.0</td>\n",
       "      <td>0.681639</td>\n",
       "      <td>0.785650</td>\n",
       "      <td>0.0</td>\n",
       "      <td>0.0</td>\n",
       "      <td>0.0</td>\n",
       "      <td>0.012356</td>\n",
       "      <td>0.012769</td>\n",
       "      <td>0.053574</td>\n",
       "      <td>0.021759</td>\n",
       "    </tr>\n",
       "    <tr>\n",
       "      <th>3</th>\n",
       "      <td>2473003210</td>\n",
       "      <td>0.041475</td>\n",
       "      <td>0.090909</td>\n",
       "      <td>0.225806</td>\n",
       "      <td>0.208205</td>\n",
       "      <td>0.004455</td>\n",
       "      <td>0.155193</td>\n",
       "      <td>0.145228</td>\n",
       "      <td>0.0</td>\n",
       "      <td>0.0</td>\n",
       "      <td>...</td>\n",
       "      <td>0.0</td>\n",
       "      <td>0.247404</td>\n",
       "      <td>0.580800</td>\n",
       "      <td>0.0</td>\n",
       "      <td>0.0</td>\n",
       "      <td>1.0</td>\n",
       "      <td>0.004455</td>\n",
       "      <td>0.005312</td>\n",
       "      <td>0.097776</td>\n",
       "      <td>0.088872</td>\n",
       "    </tr>\n",
       "    <tr>\n",
       "      <th>4</th>\n",
       "      <td>6743700335</td>\n",
       "      <td>0.056530</td>\n",
       "      <td>0.090909</td>\n",
       "      <td>0.258065</td>\n",
       "      <td>0.154872</td>\n",
       "      <td>0.007359</td>\n",
       "      <td>0.176196</td>\n",
       "      <td>0.000000</td>\n",
       "      <td>0.0</td>\n",
       "      <td>0.0</td>\n",
       "      <td>...</td>\n",
       "      <td>0.0</td>\n",
       "      <td>0.479426</td>\n",
       "      <td>0.972118</td>\n",
       "      <td>0.0</td>\n",
       "      <td>0.0</td>\n",
       "      <td>0.0</td>\n",
       "      <td>0.007359</td>\n",
       "      <td>0.007901</td>\n",
       "      <td>0.243571</td>\n",
       "      <td>0.080639</td>\n",
       "    </tr>\n",
       "  </tbody>\n",
       "</table>\n",
       "<p>5 rows × 32 columns</p>\n",
       "</div>"
      ],
      "text/plain": [
       "           id      prix  nb_chambres    nb_sdb  m2_interieur  m2_jardin  \\\n",
       "0  4443800785  0.058104     0.060606  0.129032      0.136410   0.002035   \n",
       "1  2722059013  0.067979     0.060606  0.129032      0.100513   0.026072   \n",
       "2  8856004730  0.017882     0.060606  0.354839      0.133333   0.012356   \n",
       "3  2473003210  0.041475     0.090909  0.225806      0.208205   0.004455   \n",
       "4  6743700335  0.056530     0.090909  0.258065      0.154872   0.007359   \n",
       "\n",
       "   m2_etage  m2_soussol  nb_etages  vue_mer  ...  cluster_tres_eleve  \\\n",
       "0  0.073512    0.145228        0.0      0.0  ...                 0.0   \n",
       "1  0.114352    0.000000        0.0      0.0  ...                 0.0   \n",
       "2  0.151692    0.000000        0.2      0.0  ...                 0.0   \n",
       "3  0.155193    0.145228        0.0      0.0  ...                 0.0   \n",
       "4  0.176196    0.000000        0.0      0.0  ...                 0.0   \n",
       "\n",
       "   sin_month  sin_dayofyear  jardin  etage  soussol  m2_outside  m2_total  \\\n",
       "0   0.793578       0.337523     0.0    0.0      1.0    0.002035  0.002469   \n",
       "1   0.165896       0.296713     0.0    0.0      0.0    0.026072  0.026288   \n",
       "2   0.681639       0.785650     0.0    0.0      0.0    0.012356  0.012769   \n",
       "3   0.247404       0.580800     0.0    0.0      1.0    0.004455  0.005312   \n",
       "4   0.479426       0.972118     0.0    0.0      0.0    0.007359  0.007901   \n",
       "\n",
       "   prix_m2_interieur  prix_m2_total  \n",
       "0           0.293826       0.217792  \n",
       "1           0.484948       0.030203  \n",
       "2           0.053574       0.021759  \n",
       "3           0.097776       0.088872  \n",
       "4           0.243571       0.080639  \n",
       "\n",
       "[5 rows x 32 columns]"
      ]
     },
     "execution_count": 8,
     "metadata": {},
     "output_type": "execute_result"
    }
   ],
   "source": [
    "train_sin_m2_scaled.head()"
   ]
  },
  {
   "cell_type": "code",
   "execution_count": 9,
   "metadata": {},
   "outputs": [],
   "source": [
    "exporting_df(train_sin_m2_scaled, train_sin_m2_scaled_name)\n",
    "exporting_df(test_sin_m2_scaled, test_sin_m2_scaled_name)"
   ]
  },
  {
   "cell_type": "code",
   "execution_count": 10,
   "metadata": {},
   "outputs": [],
   "source": [
    "# X_train, y_train, X_test, y_test = train_test_split(train_new.drop(columns=['prix']), train_new['prix'], test_size=0.2, random_state=42)"
   ]
  },
  {
   "cell_type": "code",
   "execution_count": 11,
   "metadata": {},
   "outputs": [],
   "source": [
    "# clusters = ['cluster_tres_bas', 'cluster_bas', 'cluster_moyen', 'cluster_eleve', 'cluster_tres_eleve']\n",
    "# train_new.drop(columns=clusters, inplace=True)"
   ]
  }
 ],
 "metadata": {
  "kernelspec": {
   "display_name": "Python 3",
   "language": "python",
   "name": "python3"
  },
  "language_info": {
   "codemirror_mode": {
    "name": "ipython",
    "version": 3
   },
   "file_extension": ".py",
   "mimetype": "text/x-python",
   "name": "python",
   "nbconvert_exporter": "python",
   "pygments_lexer": "ipython3",
   "version": "3.13.2"
  }
 },
 "nbformat": 4,
 "nbformat_minor": 2
}
